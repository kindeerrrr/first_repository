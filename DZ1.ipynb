{
  "nbformat": 4,
  "nbformat_minor": 0,
  "metadata": {
    "colab": {
      "provenance": [],
      "authorship_tag": "ABX9TyO0QFxgP2gZlMsBl8gh5bih",
      "include_colab_link": true
    },
    "kernelspec": {
      "name": "python3",
      "display_name": "Python 3"
    },
    "language_info": {
      "name": "python"
    }
  },
  "cells": [
    {
      "cell_type": "markdown",
      "metadata": {
        "id": "view-in-github",
        "colab_type": "text"
      },
      "source": [
        "<a href=\"https://colab.research.google.com/github/kindeerrrr/first_repository/blob/main/DZ1.ipynb\" target=\"_parent\"><img src=\"https://colab.research.google.com/assets/colab-badge.svg\" alt=\"Open In Colab\"/></a>"
      ]
    },
    {
      "cell_type": "markdown",
      "source": [
        "Импорт всех нужных библиотек:\n",
        "* pandas для работы с таблицами,\n",
        "* numpy — для чисел,\n",
        "* matplotlib и seaborn — для графиков.\n",
        "* scikit-learn — для моделей и оценки,\n",
        "* TensorFlow — для нейронки."
      ],
      "metadata": {
        "id": "x_RsCwmw8pST"
      }
    },
    {
      "cell_type": "code",
      "execution_count": 41,
      "metadata": {
        "id": "7LQ4mjOi4elz"
      },
      "outputs": [],
      "source": [
        "import pandas as pd\n",
        "import numpy as np\n",
        "import matplotlib.pyplot as plt\n",
        "import seaborn as sns\n",
        "\n",
        "from sklearn.linear_model import LogisticRegression\n",
        "from sklearn.metrics import accuracy_score\n",
        "from sklearn.model_selection import train_test_split\n",
        "from sklearn.preprocessing import StandardScaler\n",
        "\n",
        "import tensorflow as tf\n",
        "from tensorflow.keras import models, layers"
      ]
    },
    {
      "cell_type": "markdown",
      "source": [
        "Загружаем обучающую и тестовую выборки, а также пример отправки"
      ],
      "metadata": {
        "id": "WK0gOxWo83hK"
      }
    },
    {
      "cell_type": "code",
      "source": [
        "train = pd.read_csv(\"fmnist_train.csv\")\n",
        "test = pd.read_csv(\"fmnist_test.csv\")\n",
        "sample_submission = pd.read_csv(\"sample_submission.csv\")"
      ],
      "metadata": {
        "id": "zSzUiALY4rvM"
      },
      "execution_count": 42,
      "outputs": []
    },
    {
      "cell_type": "markdown",
      "source": [
        "Проверка: сколько строк и столбцов, и есть ли пропуски. Это нужно, чтобы понять, **надо ли что-то чистить.**"
      ],
      "metadata": {
        "id": "7Gjb7NUN8_T5"
      }
    },
    {
      "cell_type": "code",
      "source": [
        "print(train.shape)\n",
        "print(test.shape)\n",
        "print(train.head())\n",
        "\n",
        "print(\"Проверка на пропуски:\")\n",
        "print(train.isnull().sum().sum(), \"в обучении\")\n",
        "print(test.isnull().sum().sum(), \"в тесте\")"
      ],
      "metadata": {
        "colab": {
          "base_uri": "https://localhost:8080/"
        },
        "id": "5nDUxk1z4uF1",
        "outputId": "17030143-da80-4cdf-d742-57dfa0c9c834"
      },
      "execution_count": 43,
      "outputs": [
        {
          "output_type": "stream",
          "name": "stdout",
          "text": [
            "(17040, 786)\n",
            "(10000, 785)\n",
            "   label  pixel1  pixel2  pixel3  pixel4  pixel5  pixel6  pixel7  pixel8  \\\n",
            "0      2       0       0       0       0       0       0       0       0   \n",
            "1      9       0       0       0       0       0       0       0       0   \n",
            "2      6       0       0       0       0       0       0       0       5   \n",
            "3      0       0       0       0       1       2       0       0       0   \n",
            "4      3       0       0       0       0       0       0       0       0   \n",
            "\n",
            "   pixel9  ...  pixel776  pixel777  pixel778  pixel779  pixel780  pixel781  \\\n",
            "0       0  ...       0.0       0.0       0.0       0.0       0.0       0.0   \n",
            "1       0  ...       0.0       0.0       0.0       0.0       0.0       0.0   \n",
            "2       0  ...       0.0       0.0      30.0      43.0       0.0       0.0   \n",
            "3       0  ...       0.0       0.0       0.0       0.0       1.0       0.0   \n",
            "4       0  ...       0.0       0.0       0.0       0.0       0.0       0.0   \n",
            "\n",
            "   pixel782  pixel783  pixel784  Id  \n",
            "0       0.0       0.0       0.0   0  \n",
            "1       0.0       0.0       0.0   1  \n",
            "2       0.0       0.0       0.0   2  \n",
            "3       0.0       0.0       0.0   3  \n",
            "4       0.0       0.0       0.0   4  \n",
            "\n",
            "[5 rows x 786 columns]\n",
            "Проверка на пропуски:\n",
            "424 в обучении\n",
            "0 в тесте\n"
          ]
        }
      ]
    },
    {
      "cell_type": "markdown",
      "source": [
        "Визуально смотрим, как выглядят наши данные, чтобы было чуть понятнее, с чем мы работаем."
      ],
      "metadata": {
        "id": "F7b24UOx9E7B"
      }
    },
    {
      "cell_type": "code",
      "source": [
        "def show_image(index):\n",
        "    img = train.iloc[index, 1:-1].values.reshape(28, 28)\n",
        "    label = train.iloc[index, 0]\n",
        "    plt.imshow(img, cmap=\"gray\")\n",
        "    plt.title(f\"Label: {label}\")\n",
        "    plt.axis(\"off\")\n",
        "    plt.show()\n",
        "\n",
        "show_image(0)"
      ],
      "metadata": {
        "colab": {
          "base_uri": "https://localhost:8080/",
          "height": 428
        },
        "id": "mXFve9Ql4wvr",
        "outputId": "705d566c-ef36-4f71-b8ea-35b0da270a45"
      },
      "execution_count": 44,
      "outputs": [
        {
          "output_type": "display_data",
          "data": {
            "text/plain": [
              "<Figure size 640x480 with 1 Axes>"
            ],
            "image/png": "[encoded data removed]"
          },
          "metadata": {}
        }
      ]
    },
    {
      "cell_type": "markdown",
      "source": [
        "Заполняем пропуски нулями — простое решение, чтобы модель не падала.\n",
        "\n",
        "Разделяем:\n",
        "* X — это признаки (все пиксели),\n",
        "* y — это правильный ответ (метка класса).\n",
        "\n",
        "Из test сразу выбрасываем id, он не нужен для предсказаний.\n"
      ],
      "metadata": {
        "id": "ZEx5_cfh9QXT"
      }
    },
    {
      "cell_type": "code",
      "source": [
        "train = train.fillna(0)\n",
        "test = test.fillna(0)\n",
        "\n",
        "X = train.drop(columns=[\"label\", \"Id\"])\n",
        "y = train[\"label\"]\n",
        "X_test = test.drop(columns=[\"Id\"])\n",
        "\n",
        "X_train, X_val, y_train, y_val = train_test_split(X, y, test_size=0.2, random_state=42)\n",
        "\n",
        "print(\"Проверка на пропуски:\")\n",
        "print(train.isnull().sum().sum(), \"в обучении\")\n",
        "print(test.isnull().sum().sum(), \"в тесте\")"
      ],
      "metadata": {
        "colab": {
          "base_uri": "https://localhost:8080/"
        },
        "id": "1vmM7Kcf6L4Q",
        "outputId": "dd1fc1a7-357f-4688-dd1b-a15f72a1ab26"
      },
      "execution_count": 45,
      "outputs": [
        {
          "output_type": "stream",
          "name": "stdout",
          "text": [
            "Проверка на пропуски:\n",
            "0 в обучении\n",
            "0 в тесте\n"
          ]
        }
      ]
    },
    {
      "cell_type": "markdown",
      "source": [
        "Стандартизируем данные, чтобы нейронка и логрегрессия лучше обучались."
      ],
      "metadata": {
        "id": "SRKjgC2e9ewG"
      }
    },
    {
      "cell_type": "code",
      "source": [
        "scaler = StandardScaler()\n",
        "X_scaled = scaler.fit_transform(X)\n",
        "X_test_scaled = scaler.transform(X_test)"
      ],
      "metadata": {
        "id": "yPvy92MB5xwQ"
      },
      "execution_count": 46,
      "outputs": []
    },
    {
      "cell_type": "markdown",
      "source": [
        "Еще раз делим обучающую выборку на обучающую и валидационную — для оценки логистической регрессии."
      ],
      "metadata": {
        "id": "HqD6r6uv9iyt"
      }
    },
    {
      "cell_type": "code",
      "source": [
        "X_train, X_val, y_train, y_val = train_test_split(X_scaled, y, test_size=0.2, random_state=42)\n",
        "\n",
        "model_lr = LogisticRegression(max_iter=1000)\n",
        "model_lr.fit(X_train, y_train)\n",
        "val_preds = model_lr.predict(X_val)\n",
        "\n",
        "print(\"Accuracy на валидации:\", accuracy_score(y_val, val_preds))"
      ],
      "metadata": {
        "colab": {
          "base_uri": "https://localhost:8080/"
        },
        "id": "lliArZir5s86",
        "outputId": "32b5da28-edf5-4797-c529-fa058ec4ab27"
      },
      "execution_count": 47,
      "outputs": [
        {
          "output_type": "stream",
          "name": "stdout",
          "text": [
            "Accuracy на валидации: 0.8142605633802817\n"
          ]
        }
      ]
    },
    {
      "cell_type": "markdown",
      "source": [
        "Простая полносвязная нейронка: два слоя с ReLU и финальный softmax для классификации на 10 классов.\n",
        "\n",
        "Компилируем модель:\n",
        "* оптимизатор — Adam,\n",
        "* функция потерь — кросс-энтропия,\n",
        "* метрика — accuracy.\n",
        "\n",
        "Обучаем нейронку: 10 эпох, размер пакета 64. validation_split — 10% от тренировочной на валидацию."
      ],
      "metadata": {
        "id": "GmlRePqY9lxQ"
      }
    },
    {
      "cell_type": "code",
      "source": [
        "model_nn = models.Sequential([\n",
        "    layers.Input(shape=(784,)),\n",
        "    layers.Dense(128, activation='relu'),\n",
        "    layers.Dense(64, activation='relu'),\n",
        "    layers.Dense(10, activation='softmax')\n",
        "])\n",
        "\n",
        "model_nn.compile(optimizer='adam',\n",
        "                 loss='sparse_categorical_crossentropy',\n",
        "                 metrics=['accuracy'])\n",
        "\n",
        "model_nn.fit(X_scaled, y, epochs=10, batch_size=64, validation_split=0.1)"
      ],
      "metadata": {
        "colab": {
          "base_uri": "https://localhost:8080/"
        },
        "id": "Y-C5dio953YY",
        "outputId": "651e5854-02a9-48cd-da6d-e3d6ad669e75"
      },
      "execution_count": 48,
      "outputs": [
        {
          "output_type": "stream",
          "name": "stdout",
          "text": [
            "Epoch 1/10\n",
            "\u001b[1m240/240\u001b[0m \u001b[32m━━━━━━━━━━━━━━━━━━━━\u001b[0m\u001b[37m\u001b[0m \u001b[1m3s\u001b[0m 6ms/step - accuracy: 0.9553 - loss: 0.1275 - val_accuracy: 0.8621 - val_loss: 0.4713\n",
            "Epoch 2/10\n",
            "\u001b[1m240/240\u001b[0m \u001b[32m━━━━━━━━━━━━━━━━━━━━\u001b[0m\u001b[37m\u001b[0m \u001b[1m2s\u001b[0m 8ms/step - accuracy: 0.9602 - loss: 0.1115 - val_accuracy: 0.8721 - val_loss: 0.4773\n",
            "Epoch 3/10\n",
            "\u001b[1m240/240\u001b[0m \u001b[32m━━━━━━━━━━━━━━━━━━━━\u001b[0m\u001b[37m\u001b[0m \u001b[1m2s\u001b[0m 5ms/step - accuracy: 0.9730 - loss: 0.0840 - val_accuracy: 0.8762 - val_loss: 0.4847\n",
            "Epoch 4/10\n",
            "\u001b[1m240/240\u001b[0m \u001b[32m━━━━━━━━━━━━━━━━━━━━\u001b[0m\u001b[37m\u001b[0m \u001b[1m3s\u001b[0m 5ms/step - accuracy: 0.9748 - loss: 0.0818 - val_accuracy: 0.8779 - val_loss: 0.5348\n",
            "Epoch 5/10\n",
            "\u001b[1m240/240\u001b[0m \u001b[32m━━━━━━━━━━━━━━━━━━━━\u001b[0m\u001b[37m\u001b[0m \u001b[1m3s\u001b[0m 6ms/step - accuracy: 0.9764 - loss: 0.0726 - val_accuracy: 0.8721 - val_loss: 0.5590\n",
            "Epoch 6/10\n",
            "\u001b[1m240/240\u001b[0m \u001b[32m━━━━━━━━━━━━━━━━━━━━\u001b[0m\u001b[37m\u001b[0m \u001b[1m3s\u001b[0m 6ms/step - accuracy: 0.9776 - loss: 0.0694 - val_accuracy: 0.8727 - val_loss: 0.5693\n",
            "Epoch 7/10\n",
            "\u001b[1m240/240\u001b[0m \u001b[32m━━━━━━━━━━━━━━━━━━━━\u001b[0m\u001b[37m\u001b[0m \u001b[1m3s\u001b[0m 10ms/step - accuracy: 0.9772 - loss: 0.0718 - val_accuracy: 0.8773 - val_loss: 0.5562\n",
            "Epoch 8/10\n",
            "\u001b[1m240/240\u001b[0m \u001b[32m━━━━━━━━━━━━━━━━━━━━\u001b[0m\u001b[37m\u001b[0m \u001b[1m2s\u001b[0m 6ms/step - accuracy: 0.9771 - loss: 0.0686 - val_accuracy: 0.8680 - val_loss: 0.6145\n",
            "Epoch 9/10\n",
            "\u001b[1m240/240\u001b[0m \u001b[32m━━━━━━━━━━━━━━━━━━━━\u001b[0m\u001b[37m\u001b[0m \u001b[1m2s\u001b[0m 6ms/step - accuracy: 0.9761 - loss: 0.0608 - val_accuracy: 0.8756 - val_loss: 0.5909\n",
            "Epoch 10/10\n",
            "\u001b[1m240/240\u001b[0m \u001b[32m━━━━━━━━━━━━━━━━━━━━\u001b[0m\u001b[37m\u001b[0m \u001b[1m1s\u001b[0m 6ms/step - accuracy: 0.9818 - loss: 0.0538 - val_accuracy: 0.8779 - val_loss: 0.5895\n"
          ]
        },
        {
          "output_type": "execute_result",
          "data": {
            "text/plain": [
              "<keras.src.callbacks.history.History at 0x79fb4a64f750>"
            ]
          },
          "metadata": {},
          "execution_count": 48
        }
      ]
    },
    {
      "cell_type": "markdown",
      "source": [
        "Получаем предсказания с модели и загружаем файл"
      ],
      "metadata": {
        "id": "xB_pZgLW909G"
      }
    },
    {
      "cell_type": "code",
      "source": [
        "predictions = model_nn.predict(X_test_scaled)\n",
        "pred_labels = np.argmax(predictions, axis=1)\n",
        "\n",
        "submission = sample_submission.copy()\n",
        "submission[\"label\"] = pred_labels\n",
        "submission.to_csv(\"submission.csv\", index=False)"
      ],
      "metadata": {
        "colab": {
          "base_uri": "https://localhost:8080/"
        },
        "id": "KR9hMgbp54_Y",
        "outputId": "d4d2e4be-5909-4637-f698-c340aa9020d3"
      },
      "execution_count": 49,
      "outputs": [
        {
          "output_type": "stream",
          "name": "stdout",
          "text": [
            "\u001b[1m313/313\u001b[0m \u001b[32m━━━━━━━━━━━━━━━━━━━━\u001b[0m\u001b[37m\u001b[0m \u001b[1m1s\u001b[0m 2ms/step\n"
          ]
        }
      ]
    },
    {
      "cell_type": "markdown",
      "source": [
        "![image.png](data:image/png;base64,iVBORw0KGgoAAAANSUhEUgAAAzQAAAFKCAYAAADLxRrvAAABW2lDQ1BJQ0MgUHJvZmlsZQAAKJFtkD1IQnEUxc8rxUghoSiQgrdEBBZhH7iaQwQF8ir62J7v6dNQ+/N8EoFjY3O4B00NbQ4VuDYXBUFbS3Mggcnr/LVSqwuX++Nw7uVygL6gLkTOAyBfcGxtZVnd2d1Tfa/wIoBhTCCkG0URSyTWaMH37K36AxQ572bkreiNP3prnlW0qcbVqDU28NffU4NmqmhwfrCXDGE7gLJAThw6QvIxecTmU+SKZKvNF5KTba61PJtanHxPDhoZ3SS/kMPJLt3q4nyuZHz9IL8PpApbG5wh9jg0pGAijyxUrOMABZLDaTOn//cWWntxegSO6MvCQoY7KmJUBHK8qGKVlwzMIkyOYI69KPP+nWNH239mLO9Av9LR0iXg+gQYuuxok8wpUAZqZaHb+k+6St1TTM9H2uyvAt5T133bBnzTQPPRdRtV122e8/4Td+ufuZ9lJ0OA7B4AAABWZVhJZk1NACoAAAAIAAGHaQAEAAAAAQAAABoAAAAAAAOShgAHAAAAEgAAAESgAgAEAAAAAQAAAzSgAwAEAAAAAQAAAUoAAAAAQVNDSUkAAABTY3JlZW5zaG90LDWavwAAAdZpVFh0WE1MOmNvbS5hZG9iZS54bXAAAAAAADx4OnhtcG1ldGEgeG1sbnM6eD0iYWRvYmU6bnM6bWV0YS8iIHg6eG1wdGs9IlhNUCBDb3JlIDYuMC4wIj4KICAgPHJkZjpSREYgeG1sbnM6cmRmPSJodHRwOi8vd3d3LnczLm9yZy8xOTk5LzAyLzIyLXJkZi1zeW50YXgtbnMjIj4KICAgICAgPHJkZjpEZXNjcmlwdGlvbiByZGY6YWJvdXQ9IiIKICAgICAgICAgICAgeG1sbnM6ZXhpZj0iaHR0cDovL25zLmFkb2JlLmNvbS9leGlmLzEuMC8iPgogICAgICAgICA8ZXhpZjpQaXhlbFlEaW1lbnNpb24+MzMwPC9leGlmOlBpeGVsWURpbWVuc2lvbj4KICAgICAgICAgPGV4aWY6UGl4ZWxYRGltZW5zaW9uPjgyMDwvZXhpZjpQaXhlbFhEaW1lbnNpb24+CiAgICAgICAgIDxleGlmOlVzZXJDb21tZW50PlNjcmVlbnNob3Q8L2V4aWY6VXNlckNvbW1lbnQ+CiAgICAgIDwvcmRmOkRlc2NyaXB0aW9uPgogICA8L3JkZjpSREY+CjwveDp4bXBtZXRhPgrRe+5oAABAAElEQVR4AeydBbwVxRfHD92pkkorIUq3SiNIh4BISkh3d0p3d6OIhIrS4J+S7m5QWrrz/ec3j1n23nfv473H6/s7fB67d3Z2dua7s7Nz5pyZjeClRCgkQAIkQAIkQAIkQAIkQAIkEAYJRAyDeWaWSYAESIAESIAESIAESIAESEAToELDikACJEACJEACJEACJEACJBBmCVChCbO3jhknARIgARIgARIgARIgARKITAQkQAIkQAIkQAIkQAIkQAIkENQELly4IGvWrJXt23fIsePH5MqVq/L48eO3viwVmrdGyARIgARIgARIgARIgARIgATcEdi5c5dMnTpNVq5a5S7KW4VToXkrfDyZBEiABEiABEiABEiABEjAHYGePXvJrNlz3B0OlHAqNIGCkYmQAAmQAAmQAAmQAAmQAAkYAnAva96ipezbt98EBdmWCk2QoWXCJEACJEACJEACJEACJOB5BKDM1KxVW86dOx8shY/AD2sGC2dehARIgARIgARIgARIgAQ8gkC58hWCxTJjYAbYQgPN69Ejv69KkCpVSokWLZq5LrckEG4IvHjxQk6dOq3LEzFiBPnwww/DTdlYEBIgARIgARIgARLwDwHMmQkONzN7ngJsoSlarIScPHnSnpav+2vXrJKPPvrI1zg8SAJhkcD9Bw8kU6bMVtYvnD9r7XOHBEiABEiABEiABDyFAFYzq1zl62AvLj+sGezIeUESIAESIAESIAESIAESCH8EsDRzSEiAXc7smW3dqqWkTJnSHqT3e/ToKRi9ppAACZAACZAACZAACZAACYRfApiOElTfmXkTtUBRaIoUKSJZs2bxca3+A35wq9CcOnVKtmzdKn9v3Sa379yRfPnySp7cuSV37lwSMaKj4UgtXCAwYW3fvl22qb8XL15K+o8+lOrVq0vGjBn0dadPn6Hj+MiELSBW7FgyfNhQmTlrtmzftl0fadq0ifz333X5ZfESuXnzlspDLilZsqSVru10NU/C73l++fKl7NixU+f3761/S4yYMZVbUkapVbOmJE2axEp2699/y5zZc/Xvzz//TL79toZ1zF6mJk0aS5Ysn8qWLVtk7tz5Ok7RokXk66+rWPH/+ONP+f335fp3o+8bSvZs2axj165dk02bNguud1rN98A8jy+++FzKlCktESJEsOI577i73h11z7p17yHPnz3Xp3z1VSkpV66sTt+Uxzkt83vixPHWNZ8/f6HY/6Lv3fnz5/U8q/Tp08vXVaq4vAdwc0QZUG+uXb8uqVOnktLq2oULF7bSNNd59OiRbFXsUW927d4j8ePHk08++URqKsbvvfeeiSYdO3aWu3fvSgQ1/2XokMESO3ZsfQznd+naTR6ruWJJkyWVXj17WOdg58CBgzrtFSsdPxLVqFFjyV8gv67Ppn4i/tWrV6VXrz7YleTvJ5ce3bvpffx34sQJGTFilP5dqHBBqV6tmtv4eB4GDBgo//77r46fLl1aad++nd7HfZk7d54cOXpUf30XZc6WNatUq1ZVEiVKpON06NBJ7t27p/fd/ZcjR3Zp2LCBPnxdcd60eYts+3ubnDp9WrJlyyp58+SRAqqMMVW9NhLQ52rjxk2ydu1aOXHylE4qefJkUrZMGV0/ndsCcy1uSYAESIAESIAEQheBNWvWBnqGIkWKJMWKFVV96EyyfPkfbqe7BMocmt9+XeZSocmWPafcuHFDF84+h2bduvVS77v6LgvdoEF96dmju8OxgYMGy8SJkxzCzI/evXrKd9/Vk9at28iSpctMsNst5je0bddefvllsY5T8ssvXWqTzmXyb55/+GGgTJo8xWU+pk+bKsWLF9PHFi36Rdq176D3a9WqKQP697POadqsub55CJg6ZbJ8+WUJscevXbuW9O/XV8eHVvzZ5wWtcydOGC+lS3+lf2PJvIqVKlv3woqkdqBEzZg+ze2CDe6u17Jla1n26686qXfeeUc2rF+rFIb4smDBj9K5S1f7JXzsnzt7WiutUCC/qVFDjh495iMOAkaOGC6VK1eyjq1du06+q+/dybYCX+2grGPHjJHIkSPpECgjdet+J39v2+YcVf9euuQXyZEjh96319OdO7ZJ4sSJdbj9Q1ApUqSQzZv+Z6UFZbNP39f3yjrgtDNq1EipVLGCDsV9+KJgIb1vT+/Zs2dSpmw5i4O5r+7i//jTQunUqbN1pWXLlmjldc/evUpZq+VyECF2rFiyWCmOULAw3+dNltMSJYrLtKlTBEpmhYqu607OnDll3tzZllLj3+cKilmbtu1kyZKlVlnsO1DqBg8e6ENRtcfhPgmQAAmQAAmQQOgggAHdwLTQ5M2bRxbMn2/17VDKf/75RwoXKSZPnz51KLSjKcThUND82L17t4MyA0tB/vz5rYtNmzZdJkyYaP2GL55dmcmXN6/uhJsIvfv0lUOHDkmGjBkFliL82UfF0dk24VBenAXg0dlDx94uNWp8Kxjthvg3zyiDUWaQdo0a32jt0qTfqlVrZRX6z/x86y2sHOhMupIbN25KNWXJMool+KHDbKxEsNrYebtKwzkMliCjzODYpIkTtDKD/cePH2OjBZ32ggW/8MHWHB8xcqTViU+TJrXAddEoYYiDzi4UEwjugV2ZQb2xx0We5s6bp+Piv2bNWzgoM7j3OMdIrVp15MmTJ+anjy2sBu6+aguFwq7MVChf3uF8dMSNQNF+08M9ZsxYi4M5z90WSo5dmemgLDOwxKEOwPJiFBU8U23atNZWPaSF8B49e+pkoayYZ8LUAxwAHxMOSxbqTtVqr+sOniWMkhjZtWuXfN+4icAa6Sx+ea7+/HOFpczgOWn8fSOpX/87K6mfFi7UFk4rgDskQAIkQAIkQAKhlsCx464HqAOS4YQJE1jKDPpkI0aM1H3nDz74QBb9vFD39atVrSrmL3JALvI25yxcuMg6HSPXGMGGwLqCzh9kqlII4AoGmTZ9ut7iv8GDB8k31b07i3arzRo1ct+mdSvdIUI8dG6bNG2GXd2hHjVyhN539R86aevWrhGAg9ZX4LMvdDR0AA8ePCSffVZA/JvnqdOmWZf69delVkfa5Blpw/IBN7LAkOkzZmj3Nldp/W/jRrl8+Yo+BPc0uNxBmjVtKkWLFtMd3ZGjRkuLFs2VBvzm6nDlyhXVce6o08B/rVq2kDx5clu/jQKCgNq1a0qjhg0FFoi06XyucAclI0WKD/RHlzp36ihx48bV6dhX0Dty5Ii2pNjvARSIMWO83bPWr18vdevV1+fB3a5e3Tr6PsKaY2T1qpWSIUN61el/LlWqVBVYMnAP4MaI++sst2/fllav6qLzMfyePHmyFQzrVl7lLmlX8IYMGSQ5c+aQ9q84QcF1pUwjEeRltFJo/CLOiivcM5s08X5Onj17Ku3atpGTyi3ymRq1aNeurbZs1K5VS7Jl97ZE7VAukGBgnjlc026FatSogW4YTF7wTJq6A+V0zeqVEiNGDDl95oxy8fNWbP73v41y9tw5SZsmjTlNb/3yXKVR5/wwoL92t6uiXAw//fQTKw1YwCBY9hFKOIUESIAESIAESCB0E7hy5WqgZbB06dLaMnP48GH9gU4kPHvOXNm7Z5eePtCieXM9bcJc8M09WBMzkLY7du6wUjKdMQRAuenXr7+2JMCacPHiRd3BNh0qjOBWV/MAjGA0t1ChgmouTXqtjJhw/27rK3c1KDMQaH1169S2RuYPq840OrwBzTPSXLd+g/7D/nnb11KPqzkTzoK5D//+868VvOGvv6x9dztw1xqg5iq5k32qw2zk4sVLluUIYejUGzmvXNacO6XmmNkeO3ZMWrVqY52HOT2tlFXFLnarR8wYr+dX2OOYfbDFHxRJKBf/qDkhRw4fcfCPvHfvvo5uvwfNmjU1Sei5M3Nmz1JKYzpJliyZDsfcFiOYIwRlBgKFbfiIYXJfpYn49vkfJj7coHr27G1ZtEy42aJunjnjvSwzrEqwWNg5mnhQHnv37qOPQZGwczFxHjx4KHDd84vcVNft3qOHwCoCwfMwevQo/bDjNxQNzGPCN3FOnDgpsH6AJ+Zv2eWxskrFVhz8Iva6g+cN14CgnlSpUtly2zxw4ICPuuOX5wqWVPzB9fDYsaPaXfGcUo4WKguYEcxtopAACZAACZAACYR+AnYvnbfNbcEvvA0MsM4YuXXrluoz3JR3331XFv78s/y8aJF069pV0qf/SPzWszEpveX2/v37VmcQSWF03i6YDL5VLRQAQUfdbjHAN2zsk9cTJEgQKCO3zquzpbaNNB8/flzeJs8oB+bSuJLTanK1K/GLEmPOgzWkdRtvqxZGxLHoAFzI7LJ33z7rJ9gavlbgq52L/1700Sl1joOOuV0wum6/Rzh2T91jIzFVp9s3gfsUXOVMJ91dXOd78MEH71tRUSeg2NrlkNLmjaRJndrs6u2blLZlv/5mWVtgCbJbXpDAYaVwGcmQ3ntBCvPbvkW+4AZpynby5Em12EAcexT5YeBAwdwniKtr2SNDacL8JCNwJ0v+SoEzYag7PXr0stI04QHd2usOLDR2SZ0qlfXz8KEjUrGC9zwhE/im5wrxUH+x6IK7OTQmLW5JgARIgARIgARCP4Ho0aM7TD14mxybaR/Ge8ekFSVKFL0LPQELXmHAVSSYFRqMiGNk2Yxo37p12xr1Re6uX7+uM4n/EidOJFGiRLV+X75y2drHDvz2MZqO1Q/eRm4oTc8u9jwkSZJEj+L7J8+RI3uDNml269bV7Dps31UKiCuxz1Gwu025igu3NSMjlOXhV9UZd5bkyZLL/v0HdDDSzqNWp3Ilzh1WV3Gcw+AWZHdfwnGs5GXk/eTJza7Lbc1ata3ON66PuR0fqdXr5syZp+dF4SSscuWj3iiXMLt1Ba5YkSO/rgfJkia1rvefsmzYxTmu/Rj2jQKKCe/Nmzf1odDY55xglTXfBA+aEdSl+/dfW8SgyMAiB4F7ZerUqXxcC8fcCcyuNdSCCrFieVvBYOWqU6eeFR35L5A/n/6YLeYTGYkgEczuG7fvv/++VXfghmeXm2qUxIidiQl703OFeP36D7CUGTxjMC/DYgPLqKnb9kEMkza3JEACJEACJEACoY9AkiSJ9TSCwMgZFuOCt0vJkl8qD5We2gMFrvbx4sXTXi/2PhauF6yLAqBzivkGRtatez3PARYLjGIbyZAhg6RLl8781L789tWwVqxYKanTpJNKlb+2Oj9WZH/sLF++XEPCKXAL+vPPP62zP1ZLxPk3z5hYbQSdtNpq5bLvGzXUf9Wqfi1Is0L5cg6rd5n4WOUMczLMH9yl/CKY5F+4UCGXUbPnyGaFY7UIkxdsc6qlebEYAuadpErl8ztC1omvdmrW/FaW//5aacIci6XLllnR4O70t1ra14j9/pkws0UH3Fgn4Lq1ft0avbodJtQ7u2c534P1qpIbwZyeNGnTCebd9FUui5AsWbKYw7JhwwZ5+PCh9btv3756la9atevI3r2vrVdWhFc7I4YPk0guXLPSpk2rlXJEg/Xl4qVLzqfq38ePn7DKB2UN5lFXgg58W2VteZMgjYMH9lmLOYBdv379rNN27tpt7WOC3JLFi/Q8GvuCG1YEP+7kyJ7dirli5UprHyZl+9KMrpZsf9NzhcTsz/+qVStk6NDBesVCNFYUEiABEiABEiCBsEXAN88V/5Zk9Zo1ehEAeCCh/7Nq5Qr5eeFPOhm7x4pJN1gVGly0YEFvnzjs4zsmmDCN0dhG3zdBkBastASTEkbd7ZOpm6iJ7IvV92LQkTYT09GptI/WmzT8uoUbVfMWLZVVYK40aNjIwSXu448/1sn4N8/IPwSWqEbfN9arbWHyd+MmzaTGtzUlV+68/l5ZTCfo4j90dLt26eziiHdQ7ly5rWP9+/8g8+cv0N8oWfDjT2opZ2i+X6klt7Nr1zoropsdKBaYuI0J50YwpwbKCZRNcDSrqaECmrlJJq59Gy1aNOvntavXlEZ/Tp87Zuw4B8XWRHK+B1j9DgsCNGz0vY4CZfi5WnwAgjkzUCYhmIPVRHFftWq1Xi0PK5fhvmAyezL1bRlXgsUn3Cl4YFBCLZ9tpFnT5rJ1y1bzU283btwkWHLbiL0OmzCzHT1qlESN+toSacJdbdHRt1vEcA/NCmrRbTyh7GAVPWy7vGEJbVfXMWH4NpQRLLSBld2wRdmMMgrOWBveWfzyXJk5OTgXVhnMl4HihDaBQgIkQAIkQAIkELYI2BeJetucYxEjLM+Mb0Cin48BYAx4w7ull5qjbATeWpDIJiC4tviwJCZtG5cSM6puro/R+pHKfcoIRm3PXzivO8yYjI2lfO2CEWi4KgVU0CFDJw1/dunevavVqfVvnrGSWGW1ahPyi44z/uyCzj6sKoEhY8eM9lWhw+g5vm0D5RGCOQvOAgXFfEzS+Zir382UixQUBCyXDWnVuq2eJG5naL6P4+p8hCVKlEhXTihCUDCKFf/SZVSzJLDzPYC7kl3A9PvG3soNFIRFixYqU2U1nTbmljjPTcLqbOZ7M/Z04JZnX3zCfszsD+jfX3/UEp12KKpQhO0CVzojSK9TJ+/vDJkws8WHNc2CBSbsTVus+FVfLW1sVgFr26adZF2fxWGlOXx7J3uOXC6T8hLvB9/lQadAKPTDhg6xVmvDNc11TdQff1zg4DZqwv3yXJUoXtxapAJr17sS01C5OsYwEiABEiABEiCB0EMA31i0f9bibXOGeTRFihbX3lIJEsRXA9+O00SQ/jc1aurLBJuFxsx1wQj34EGD9DLLmTNntsoKP3y4Gy386UfBhH8jGJWeN3eO1PimuuVuY45h2eNpUydra44Jc96a6zqHm9/d1Uc8zYcPEQaLR8cO7fVywyaOf/P8zjsJdTng++c8vwBha9esthQIpG0kkm3fhDlv7eXBUtX4arsrsc89gCsblCzn5W+hPOKDnegguxP79UwcLAQAlywjsJLBKgHB3A0oM/ZvxNjzgjjm9+xZM3V8hBnBKnP2/JhFB8w9wLdq7PUG5+FaS5csdpgkj874vPlz9TFjrUFcKD4DfxggbdUSx86CeIMHuf6QI6yFRjBvZZbKOz4CC4auBCMJmBszccJ4q35GjPh6/gruxXff1XN1qkSM4B3PHt8eEd+eQT2FQBns0LGTLhfczOz1DeUZpMpj5+VbHYsY4XVdNNerqtwkYRWyu64hXVidcD2sdOdK/PJctVflwHNtF1zH/nHZKC7c/uzxuU8CJEACJEACJBA6CKBv4ptXSkBzicFtV8qMPb0IagTU70O29jMDaR/aF1Y7wqRpvwgmnT9XczWSqK+5u+ps+yUN+xfNx48bK2XLltF5eKA6h+7mOtjTDUieX7x4qTubpjNvTy8492Guu3Tpsl504W1c9QIzz+iUX792XdWBxC5H+11dC/cAE9VRb+zua67i4kGAWxysUFBoAluwWtsXBQtZycLXMyTngcDdDM9UUrU4glEIrcy9xQ7qDuYsYbEAV89eQJ8rfKcIS4rHixfXYTDjLbLKU0mABEiABEiABEKAAD7DUbnK18F+5WB3OXMuITp+/un8uXITck4zIL/hz2/36fctjdCSZ9/y6O4YOv+pU6dydzhEwjHiHzu195wXv2bAP/cA1h3nZYT9eh2/xHv3PccJ//6pz35J379x/KKU+zdNxEfd8S9HvzxXmC/nbs5SQPLJc0iABEiABEiABEKGQK5cOR2+6RhcufDpYxJcV+Z1SIAESIAESIAESIAESIAEwhWBvn37qAWnXq84GxyF80iFBiPocD3CX2hxuwqOm81rBA0BzEsx9ck+hyVorhZ6U+VzFXrvDXNGAiRAAiRAAsFJYNzYMcHqfRHic2iCEy6vRQIkQAIkQAIkQAIkQAIkEPQE8IkHfNJj3779QX4xj7TQBDlVXoAESIAESIAESIAESIAEPJgAVj377ddlek5NUGOghSaoCTN9EiABEiABEiABEiABEvBgAlj9DB9FNx8ED2wUVGgCmyjTIwESIAESIAESIAESIAES8EEAbmhr1qyV7dt3yLHjx9TnIK7K48ePfcTzbwAVGv8SY3wSIAESIAESIAESIAESIIFQQ4BzaELNrWBGSIAESIAESIAESIAESIAE/EuACo1/iTE+CZAACZAACZAACZAACZBAqCFAhSbU3ApmhARIgARIgARIgARIgARIwL8EqND4lxjjkwAJkAAJkAAJkAAJkAAJhBoCVGhCza1gRkiABEiABEiABEiABEiABPxLgAqNf4kxPgmQAAmQAAmQAAmQAAmQQKghQIUm1NwKZoQESIAESIAESIAESIAESMC/BKjQ+JcY45MACZAACZAACZAACZAACYQaAlRoQs2tYEZIgARIgARIgARIgARIgAT8S4AKjX+JMT4JkAAJkAAJkAAJkAAJkECoIUCFJtTcCmaEBEiABEiABEiABEiABEjAvwSo0PiXGOOTAAmQAAmQAAmQAAmQAAmEGgJUaELNrWBGSIAESIAESIAESIAESIAE/Esgsn9PCEj827fvyJ59++XcufPycaaM8uknmSVGjOhukzp+4qT8998NKZA/r9s4ofHAkydP5PflK3xkLXr06FKmdEkf4eE54O7de7J6zTopVbK4xIoVyyrqKhUWIUIEKVGsiBUW0junz5yVvXv3S+bMH0uG9B/6yM7vf6yQJ4+fSOVK5XXefUQIpwEvX76UEydPye49+yRmzBiSI3tWSfHBB76Wdumvv0uhgp9LgvjxfY3Hg/4j8PjxY/lp4c8+TkI7Wq1qVR/hDAidBH79/Q959vSZy8x9+mlm+ejDdC6PeVLgtu07JVKkSJIrZ3ar2P/+e1EQni9vbkmePJkV7uk7rE+eXgNYfjuBIFdo9u47ID8MHqYbqOTJksmKVWskSpQoMnLoQEmcOJGVl3PnL+gOMLZnzp6T8uVKSwHraNjYuXHjpiz8ZYkkT5ZUokWLpjONsIePHnmcQnPt+nXN4rMC+SyFBsrMtBmzpUO7VqHqhu7ff1Dndeu27TJC1Uu7nDp9RubM+1EHVapYzmMUmhcvXkj3Xv0E5U+U6D159PCRLPhpkXxZvKg0+K6OhejZs+eydv0G2X/goBqwuCC379yRkiWKWce5EzgErqvnqWfPXqpDl1dixIypE/3nn3/k5s2bVGgCB3GwpPLjwl8kbpw4kiCBo8KPdx6ECo3InytX63eGUWigzPfuN1Bix44lFSuU1Zz4nzcB1ifWBBJ4TSBIFZqLly7L4GEjJX++PNK6RVPdGUTj1LFrT+nSvbdMHDdKdfyjyo5du2Xo8NGSP28eHbdOrRqS/qPXI+VeXl5y9eo1iRI1iryTMOHr3L/agwXo6dOnuuNlDuI69+7dl/fee1euXLmqr5MgQQJzOEi2d+7e1en27NZZEib0vhZG99Ho2AUj35cvX5Gnz56pEe/3tbKH47BqeHm9lHjx4uno6FTCUvXuu+9IxIgR5dq163ofo1eQO6rzqKBKvLhxBeW9f/+BPq4P2v4Du3feSSiRI7++3bg30aJGdRnfdmqg7Z6/8I9WZr4qWUJy58xhpQsW/6jRt2RJk2hF1zqgdu7duycPVUfaLuhcw8ITFIJ8XLx4yWEEcOXqtW4vdUkxjBM3jsSJHdshDix1qJN2ia8sFqjrRnC/rqj7kjRJEofwR0r5RT2wS7x4cQVWPtQFvNSxD9F1/L6q4+++a48eKPvjJk6Rs8qiOnRQf0mVMoVOc/PWv2X02Iny/vvJtdKC+tmhczeVjyf6uf28QH5lff1YWV9jOOQB+byk6jvKCovCM1Xvb9685VCXcQLqKcp6T5Upqhr0MM/Brdu3JUrkKLrsiHdDdeIjRYwk8ePHU8+Ll34uEG4kZqyYDvcE+cS9xTNgv1fgCeuhsRaD/f0HDzRPV8+TM39cD3l7oJ67ZGoQA89oUMmtW7d10uPHj1XcvO/3TwsXyuDBQ31cEuVAm5cqVUqXzwoUIeQ1efLk1rloS8AS9RSCNG7euiWJ3ntPP5eo0xcuXNB17wNfrHQPHjxUSq13Xk3iCVW7izrhfA3clytXr0riRIlV2xRJX//S5cvmNL3F/Yqr2jcjz5+/UIrzWdXWJ3IIv6rSiaMUBbQNly5dkpQpU+k0zXlmi7KjXtnTNGVFnMiqbU2cOLGJHiRbWHoxMGCXOvUbWz/NeyC2Kvu/qj1KrNo888ybSO7eIai3d+54v4ciRoro0DbgnOvX/9PvRFNX9bXES79DkDaOI54R5zTwbOr3iXq/BfX71ORh7PjJelBw8MC+1rsSx1DWayq/H6j2yLwTTBkjR4nso6+A9ycE7xAjrspj2hS8d129a3Hum9p4d/fHXDcwt4FRn5Afd23Zm8qKc/G+Q//nfWU9A7Pnz58LBnOdBQO9aLchaE8xAIYBYPPO8K3+4hw8q+7ejzgOQRrO71aEmf6gdyzvuh4nTmz9bDk/B6Ye2esA6gWeD2wh9mMmTW5DlsDrHm4Q5GPb9h2qsxZNWjZrbDU4aJh7de8sjZu1lpOnTkvmjzPKzNnzpNrXlfXLbcNfm3RnJ03qVPpFikqPkWJ0YiCZMmbQ56NBfqA6Hz1699edFRxDx75Pr276Adm5a49MnDJdUquXOtxmIEizb6/uDh1IfSCQ/jMPWlzVyXUnF/75V/r2H6QffsQBjwF9e2hXntnzFugR117du+jT0Slp3b6zTBg7QnfwmrduL0MG9tNlQoTxk6Zqvu1atxCUF79/mjdTn2v+w4OJ87p36ShZlEsDRtz7/TBEKQoPdRSMCPbs1kmnY84J7C0ak34DBut8Q1k1AosN7j06NpBSXxaX7+rWModl5pz5smnzVus3diYpJRgd08AWKMpohKHA1K9XWyePjvfmLX9rbvsPHLIuCRe1vqo8huGH6dLqOmmscnCNgEJglybfN5Aihb7QjeHocRNly9Zt+jAafzwfUPohq1avk/k/OboWfVO1isA61LVHH/mqVAmpUK6Mjos8wKK5YM50/Tuw/kOD/fe2HVK39reWMoO0P8ufT3bt3ivrN/xPKzSoc1A4v65SUTb8tVEu6M5iXPVMZ9JZQTpjxk/SDE3ecH8/U66kqJPfN/xOihUppA9B4W3fqZvi2EUOHjoscKUYMeQHrSiMGjNBdazflWZNGsmhw0elT/+B0qRRfSlSuKB+ISItu2BgpE2rZjpo5ao1MmvuAquOlS71pS4XDjrz/GvjZvnp58Uye/okH8/TkaPHpVffAbp+op5i8KB7r76CgQEI2p5ePbrozpUOCOT/bivFCWIUDlfJg3fffv1l+vQZ+nBspayNGzdGihTxdu88duy4NGjYSCsmiABrz6RJE3THdMzYcaqjelXGjR2jn4O6db/TismSxYvlf//bKC1bttLKHs7Lnz+/zJg+VbkheluKEGZk2bJl0qVrN/NTb/v36yu1a9cS+zVwYNas2dKnbz/ZtPEvpYCk1O1+vnyOdvm6dWpL3759dDpLli6T7t26W/lo376dtGzRXB+rXaeufPzxx/LLL4v1b5R9rCpL0aKuy16iRHFdVrS/mzdvkfoNGurz8N8777wjHTt2kG+qV7PCgnMH7wFYO28phRIdbgisnqZd8u0dgmcSz5wReENUr1pZypX5Sg8Q2d8hqMONm7fW7+CunbyfoRZtOljPCtJA+2TeKTNmzdUeFiZttGdo14JSVq9drwc8u3Vubykozu0K8tii6ffaRR2DYKY9mDNjstVRRjvZoXN3P5XnruqY2zmhfPZ3LX771sb7dn9wbnDLm+rTm9oy38rq3AfD89Stcwc9mIBBa2fJlvVTQX8FFjf0RYygbS/0xWe63XVXfxHXt/cj6oW7d6ur/lGrdp3UM1VLihYuJM59r0WLl8ovS36VUcMG6QHOiZOnySbVF0CfwIh9sM+EcRuyBIJuSFGV66h6gaLDjAbHLug84mV44sRJpXE/1po6OjDQ0guojt2adRtkxOjx+hTMvUEHdt6saTJ8yAA5cvSYUlBO62NDlFUHD+PYkUNlysQxuvPTQyk/qNgQVD5o4LOmTdQjzRilnTFrjj4WFP/hBYSy2i0hztfZoDoHSZMmlhlTJ+gyvadGgRYtXuYcLUh+Y6SlZ58BykKSXebMmCLDBg/Qo/Dzf3TsQAfmxTf8b5MMHDJCnigLGl6aZmQQSibcz6orRXberKnSvk1L/bJct+Ev6/IY9cE8qrkzp8igAd6dGutgIO9A8UMHeZ3qrBsFC8oM9vPny2tdDQyhRGfM8JHMmDJe10l0au0KDEad0MFFvvGHToWRZb8tlx07dysltqcud1F1TTTgxrr3WKWfJEli61x3c1HwjGBAICgEzwnKjfluzgJlBS9sPGNQPO6qDgSskPBtjxQpslI2BmklC+ehrGDYo2snWTh/lnxTrYp6/ubqDjMsOevW/4VoWtaqfYzGY4ADHTAMXEBhA28jGEGE+2qxooX1vUK4GY0eP3q4ZoZ0jaCOTVfXg4vcgjkzpFXzJvLHilWyZ+8+E8VPW7QjI0aNdYg7dMRoeakYTBo/SqZNHqddiBAWVPLfDWWdU51039qW+fMXaGVm6ZJf5PixI9K8eTOpW6++VmAwqPBNjW9VXc4nBw/sk107twvSnDTZUfFG/nv36SsHDx6U6dOmqgGXaGruzkJp2KihnDl9Snbu2CYH9u+XDbbn1F5mjKDmzJlTXx95yKjuoyvBfEooM3a5dct70Gr7tr/1+ZUqVrAOHzl6VFq3bqMsUoPk9KkTSqGaJsOGDVeKt/fAACJCmVm2bIk+t37976Ted/WV9e6aHrG1l33DhnUC5a7/gB+s9JMqC/HJE8fk8KED0qTJ99KpU2dLcbIiBeMOBgeghOC9hwEPDLRs/Xu7zsGb3iHoVOK8mVMnStnSpWTu/J/kwasBLHsRJk6Z5tBBwzE8921aNtPPEgYNjMAqg44tjv28YLZur9erQYzr//1nogTq9qKysqFPMHX6LKlUoZxkzfKplb69XUH7ikGKUWMnWIMLJiLaFCPL/1xpdvX2bcvjWxv/pvvjkJFg+uFbfXpTW+ZbWe19MLzHM6T/SEaNGS9p06TWijCUYbz/0AZjv0vHdoJpCEhzuBqwQl2CtRIDm0Z8q7++vR/f9G416b9pi/cflBkjyC/qevs2LeTHuTNk2iTHd4GJx23IEwhShQZuJQmdfIVNkeFaghcqRlQgFcqVlvpq9BYj0Rhd3bV7j26EMXkcnT+MmmzZ6t2gwz0JDS+Um3p1auoOIDp+zRo31CNaMNMbwSgw3ErgNlOpfFn9MJljgb2F+Tv+K3cxd2nXqVlD+vTsJneVW8CBg96j/nBzMnLm7HkVflj/7Ttw0ARb2337D1jHz5w5Z4VjB0zQOA0fOVaPNMM8ahdYFtA5K6xG1v7591/dWQQX86K0xw2s/Y1q9BMdb5iZoVwawURzmGwrlC+jrUN5cufUrmjbtu8yUZQZ+7Z2mUADF11Z+oJa0LCCz/Yd3nnAfK/cuXJILNtItGHYXHV64OKCSfLfflNVT5w3+YMiBpdDnW+Vd7v8b+Nmy8IGqwQUNtw3o5ygAx8D5X31Zz/X7OO5mj5zTpD52xv3JlfKFJ5n5BduZngpQUEdPKCv7jh17tBGW0dheYOgAwQlEUoG4lVUzx8UebiqlFQj5BihwyAAlKO/lOJbQvGHwH2kYzvveVYj1csRneTb6nn5YdAwbQFpqF6ORozlAq6lYGYfPEEdw2+4dZ49d85yNUG4EfOsYbtHLQzhSjCHCooE0oeYtueLzwpotwp0jnKqQQK4kUJxCAq5rDp4qVKn9jXptevWS9OmTSRHjhx6cKhJk8aSIkUK2a4s5ejA31DtbY8e3bTLFVy2li1dLJ07dbTSxODQrNlzZM6cuTJ79izlWujtDjtt6hRpqtI6ffq0HFBtUjTF4cyZ16OrVgJqB/cKiikGp4wbif049jF40L5DByn55ZcOh1CvIZhbiXMjKeZGNm/erBW6NKqjdOLECTUolEQf2rplq4kiDRrUl+zZsulzW7dupePvV+2lc9nTpkkjHZR1548//rTOfaom6p9R7eNpVScvqOcS6UeP5vjsWpGDYQcDIt5tY1T5/LP8+lnf/UoRf9M7BPUT7Ts6sXDh022JU/uJEWsMrNgX+cB5ELjj4ZyoNhdZ3BMMGmJBn2PHT8hVpShC7O8uHRBI/8EzwygkadM61nt7u4J81qxRTQ+Q4t1oJGOG9NYCPXgmMbBiH+zwS3l8e9f61sa/6f6YPAbn1l198ktb5q6s5lzTB4OHQrvWzWXsqKG6DUfba9pjs4+2PW+eXDJx7Ej9XkW7CzdfeDuY+oetu/rr2/vxTe9WpGtv7/Gudxa8i9CH+ujDdNYh9D2Rfwyy+TagZJ3AnRAj8PqNEQRZgCvOmbPnfKSMSgN/1g/LlbFGiHJkz2bFM/Nnzp//R1Wi9Dp8wuSp2t0EHUw8OGjwIPBdN2J8Y+2NrL1ThkYMo7xBJXiB2PPj6jrQ9GGZwMOEDj1Wz7K7qOHBxig0xDzg9nQwMds0Eq6OY8Ip5uagM/7b8j9lyoQx1ukYeYDAYmIEjb2reUnm+Ntue3XrLM+UK1fbDl1klnIhM24TWLUGiqldwA7zNIzcUB2cJEleLxxhwoNqC0sgXoQYxU+XNo22XsHtCr63RqAsgz/mshhJljSpvp8YBYXygwURUNdciXFRgtufXYy7ItJw1xHU8ZXxEaORaFzhpnZ21lx7MoGynyZNKp3OufPnLfcxkzCUaO8Oq/dcGIzImTkoeFmBHzqGEMybwaIQRnAc50KwYho6I7DgoYOJeli8WGETVR/DBGA8K3aB64mx8iH8umoHYO1F2s4CSxKeEWfWmG9nBFYmDIxAENfZjQpWHoyOw0IIixHEDBQsXLRYjyIjzLwc8fJPkiTwO8InT51SdTItLuVWjh49IiXVHDUjYAK2Z86elahRo+oOPpRwI/Z9hK1fv17/wcKS89U8N/2CV5aQcePG6/M/+eQT1WY91tYpk459e1+5SMWyPRv2Y2YfliS40w4eNFBWrlplglXYFa2A2e+vOXhGKRro+HxXv4EJ0lt0cIzgOTSCZ/SDFB9o6xTaVFi37OXFMSh4SBOC/br16ul9KKZQjiJFCtLxPn0td/9BQbcLrLaYswd50zsEdRGWUgieKyhEdqaY5wSrMBSBU6fOKOu5N0NwgmBFQ2eBsov3EgZe8NxirgQEVsqgkCyffiKd2reWkcpTY8SocTJu1DD9vsS1XLUrmGeEd4qRkl8W0+ceOnxEdY4v6vIXUJb2w0e8n3W/lMe3d61vbfyb7o/JY3Bu3dUnv7Rl7srqqg+GuvEmQZ8Qg1PwSoCiFeNVfUNbA/Gt/vr2fvTt3Rrl1eCI6Vu5yyNW6YTVv22r5tpFEfHwDoOVs1a9Rtra5Lygh7u0GB78BIJUocmoOl14uFGB06ROZZUO/vboPEBxMR0/TCAzk4/xcoEkT5bEOge+9XiA4Nu6Ro1EYnI55B/VaUmpXk4Q0+BjRBYj6RCMnpproIMTVJ13lAd+9pWVhck3QQftc/WANGpQT3eMJ0+doV3zzDlwuTFzaKCYYQ6NXexzaJwfTrzEYZGCoNxghSWwjYALZMqE0VanGfk2CpKJF9hbTNpEvlDWT9RoPRYFSJHifeVy9D+HS51Xk47NvUQHHy/YD9QocXAK3BeGjRwjcFFAYwvFwVhskA8wBDPTGCMMo0loyI0l5/Tps9bcEBy3CxSl1KlS6vtvwu33AHU8iRtlCPHXK5dFDAZMHDfSwSpk0gqMLZQO/EEhNvNhkC46Rxg1/egj79EruBVseeUGY64LF5T31f2GoNMDK5QRvLBMW4AOVuGCnwvmrUBJxOCH/dlE/YUbAiy06JDghYw6MVLNp4F7mVEoT506bXWuzHXMFnUJgwyIb8TOGmGwrpk5SRgEwBwaI4g7bMQY3dagrEZM5wBukrAsQhAXZXKlWJnzArrFRHjMY2nduqWvSWAOyalX7riIiDwdO35MylcoL7BsoPMOi5aZh3Px4kXdyTcT5GExadasqZQtV14mT5kqjb9vpJUhKDNw8SpWrKi+Po67EygDvi0aAGX3t99+l58X/mStfmjSOnzkiHreMpqfDtt06dJp6wtcyoyACxYTMALFzQiU1qNKUU2dOpWqO+/5KPtZlQ9YYaDoQGDJ2rzJuz0Cl3z5P5OiRQpLgQIF9PHg/g+ddjwvpj7hPYd2A/KmdwiUcswDg0BxxLyYfHlyq1HntDpsyvSZyvL9jnZpg7JgBANIECwE4SywoOLZHTV8sLbComNZt35j52iB/rtp4wb6/dh/4BDtooR3lXO7AovfZVVOzOkxAuUWS/DjmcZ7tFiRQg6uv34pj2/vWt/a+DfdH5PH4Ny6q09+acvcldWca++DoY2Gldb0uVyVcYGaI4r2e/SIwboNgMVt+KjXblzu6i9WvfPt/ejbuxVzcVF3zHww5KtG7foO2bt8+aoeNO/SqZ31LkcEnIe5vxgEQN8NA9E//7LU4Vz+CB0EgnQICjdfT5ju+4MaiVujTdWYbIXJ+phYixF5VBb4x6Kzi84PRgwmTp6uTeFYjQY+95269tTKCh5KvKQxeRudB0www3GMoqLTg5FrdIqMOwIQY5IYGnVM6oavPyw8gS1YvQejORhZgAkfypT5u6bKgwYXHSuInk+hRk4RF6NH/9u0JdCyAzZYmQo8liz7TaeLFUSM4IFHY4EOOzrFRumxT8IzcQN7ixcK2OMFik5vnty5tLUM7jxQZtFRhq8qRkPwsvxxobclCvUDZYIyCjmrrAZBKWg0oZzgRYhv6DgLOrZgCLc+dN4OHzmqR2/yqo4t7jOUdSxggU498o0/hKMOorHHM4H5L2jEMaES1qDqNevpe2GsBR9+6K0wOF8bv3HNRvXrBvl3Xlq1aKrvB8zvcL3AIgGYO4Q5M9/VqaWzlitnDp2fxUt/1WXbqF4aeM5QRsgXnxeQ/23crBdAwORmjHJ17tZLT/7Gcbj4oTx42ZgBCoQ/efJUequJ/1CEsYgAOnUR1R/cGbAyHxR5dPbwjOH5wT0xrDHyCissXnxQNlDPoaSAPSwx39ZpoJUoXMevUrNGdYeoqJNoe6ZOn6XzcE8xGTF6nHzftJXOl0Pkt/wBl7wpU6ZoCwIsNMeVu4/5AztYS06/cv8q/dVXMmXqVG1lwQT/ocqyck+VO2+ePJI+fXrdaceEfXTYTymLT7XqNWTU6NcWXLgYZVFt8ahRI+WHHwbK1q1blfvj69F6DDAsWbJU4MblSnbv3i1r165VSvDreUzO8Q4dOiSY6J9XLdxgF5Rp7py5kunjTHLy5En9h3YVbQXKUrDgF8olcK9MmzZdr5a2b99++fTTLA4Wnnnz5qvrr9OWHszPgbKSNWs2h7L/qwYf9irXLcyfKV/u9eATnkVwxN+uXbt11l68eGnPYrDugzUs2mgbMbCA+p07l7fy/KZ3CN4teJfi78ChwzrfaIOMoN60U8q4UZYQDtaYs4K2zQwWmPjYRlNzqSBeKh0M5jhbTvXBIPgP3hjdu3bQ82PwrofY2xU855OnzdTv02xZszjkoEK5stqtDiP3mEtkl4CWxy9t/Jvujz0fwbXvrj751pahP+Hb+wxtrb0PBpfRoSNG6feEb+Uyi+fAuoe66LwIjrv6+6b3o2/vVt/yY47hvY0FZbI71SPM856i2nqzCAYG2Sihk0CQWmjwsGAFLSgo81WHHyO8GPXGZEeYu42gowI3KKxyBMFIFFZCg0DxwVwTrEgByZ4tq17xBfswC+K8bj374qceOerfp4fVUOP6cCPCCBUED599lS0dGAj/rVm7Qb90kNSQ4aNcptixS089OgD/fyhZWCkK+UNZjdsEOm0O8up3xAiu9c4IKtwcixDR+9yOXXroJMAZVhH7SAka2h/UfKQfhgyXZq3a6XjoNGIVreAQrETTvFV77QI0Wo30tWrRRHUKZ2tFE3mrVqWSXkkLK4BBwYGgA2yXwUNHyqIf59iDAmXfuGRgW7xoYZ0nKGEQwxb7yOcAVccGqE51y7YdEaTdpxo3qq8VlAmTp+kw+4gTAmDKxhwivFjhJgXlGy8MCKwEuE9tlFseLEKwXBjR+bJVi4+UslOkcEF92Lm6mHMCY4sV8bAazc+/LJEBg7xdIHFtPF/GtTNN6lR6OfZJajACSgPYQAExE3jx7EKRGzthsi4rjmOCs1mlDh/IgyUIyg78qo2MGT9RL/YxsF9v/YyYcCiaaE/ad+4uWMjCLNoA5RN/dsGEZyxGgOXiMd8IShckr1KkscqaO4mk7j/E3PO2ikEUtQSss4DNoKEjrPqJjiDaI3sn0fmcgPz+VVkzBg32dk/8pkZNl0mULVNOjhw5JJUrV1LWrotqMYCW2iIBq8yMGdMtN9h5c+dIi5YttfUBCZUu/ZW0bdtGp2nKjR+YjA/lpEGDRmry/zq9kphx9cqcObP6AG1mrWDqE23/NWj4vbLiFJNSpV53HrFQhGGCa2CwCSuIQUw49tu0bafzPGLESMGfXaDEQsmaNXO6XsUNK7lBatWqqRaIKGpFrV6tmnTo2Ekrf7C4oOxm+XxT9vwFvJ8txO3Y0fv5xTMGr4DChb3TgiLUsGEDvZqblXgw72BgbNeevfqbLHhPVK1SUbczyIZv7xDUW3QIzbsU50IByJkjm3qm7utSYEVRa6DrVdsCazm+x9X0+wZWSSPI64YHz8zadRt0G4UIeJdCfLyzdGjg/gcWDevX1QMIaFuc2xW0IR2VexraUChmENSt7Nmy6DYJ71hYE44rRdmIf8tj3rVQfN/Uxvt2f8z1g3vrW31y15ZBCXpTWZ37YHDx79bF+/m2l9H+rqr2dSWl9KgVIxs21VHwrsF7AvfMt/oLly/f3o9fKe8Kd+/Wk2r+nyvBfYWgHuP90qhBXf3bVvXVQNyP+v1VW1lpIOYc74j8P1QRUCOdwSaqQfX1Wkrh8VIPkcs4atKml+oAujyG85Q7hcOxjZu2eFX7tq4OUz6RXsoM6nA8MH8s+mWplxqddZukGkW28oJIysLkpUaO9dbtSUF8ALzedD+COAtW8up7F2rgT43XvBLVUXXgZcLVZHWvKtVrmZ8hvlXWCi/USyNq8qDOn/IzN0HWtn6jZl5qpNX6jfKqRTEcym0dDGU7eL5UJ8nXXDnfQ3tkPLdqJNVlfW/asq3XhElT7dH9vI9nbvGSX33EVwMGXn0HDHIIR91RbkgOYYHxA/cfZQ8qmTlrtlepr8q4TX7VqtVeGTN+7HAc7Yv64KZDmP2H6vR5oa76R9AuqxXD/HOKv+KijLNnz/FxjrK0eLVq1dohXFktvNQgkENYiS9Leqm5ObqOKYuOwzH7D5Q9KOqB/Rpvu68s5l69+/2gk8Fz4+q9F1LvELxL8RcaBFyUC+VbZcW/5fFrGx9S98cVDL/UJ5zn3Jb5taw4F+8I/7aDqNtB0S8LS+9WsKMEHgGfQ49BqG5htTHfxJgiXcVxNUpq4uE8b4O4CXHc2ifdOx4JnF9mNNevqWHUzPif+vWcwI5n5nsEdroBSc++cINv5/uXs29pBcYxjAz6VYwFyMTHaJR9zogJD41b355Lk1/f7iHKbqwyJj5Gn1evWaddwiopS0pgijNrpG0+5haY10FaaJd8K/vbXs8+sunXtNC++PbRQzNnxq/pIZ5vq5b5Jx3/xjUWaPt5xupiDzP7KDtWcHMnASm7u7SCI9z5uTHXDKl3SFC/S035/LLFc24+vuuX+K7iBGZ57O1OSN0fV2W0h7mrT4jjn7bMXlacq/tgqh/mH/EtL/5JxzluWHq3Ouedv9+OQAToRm+XROg8G0vCrlm7Psg//BU6Sx/2c4VqiYbJWdyFO8cLqd/u8ucuPKTyGdLXhYvYsWMn1FLNRVx+78Yv+fONqW/H/JI24wQvAd/ul2/HTC4nTJiov3+TW7kUhnXBQhn3792XMqVLhvWihMv8u6uP7sJDGsLb1Cd3ZXIXHtJl5fU9m0C4VWg8+7ay9CRAAiRAAiRAAiRAAiTgGQRczzb3jLKzlCRAAiRAAiRAAiRAAiRAAmGcABWaMH4DmX0SIAESIAESIAESIAES8GQCVGg8+e6z7CRAAiRAAiRAAiRAAiQQxglQoQnjN5DZJwESIAESIAESIAESIAFPJkCFxpPvPstOAiRAAiRAAiRAAiRAAmGcABWaMH4DmX0SIAESIAESIAESIAES8GQCVGg8+e6z7CRAAiRAAiRAAiRAAiQQxglQoQnjN5DZJwESCN8ETp06Fb4LGApLR+ah8KYwSyRAAiTgC4HIvhzjIRIgARIggRAkMGPGTBk8ZKg8evQoBHPheZeOESOGdO7UUerVq+t5hWeJSYAESCAMEojgpSQM5ptZJgESIIFwTyBFytThvoyhuYAXzp8Nzdlj3kiABEiABF4RoMsZqwIJkAAJkAAJkAAJkAAJkECYJRDh8NGTtNCE2dvHjJMACZAACZAACZAACZCAZxMIkMvZkWOnJFOGdJ5NjqUnARIgARIgARIgARIgARIIcQJ0OQvxW8AMkAAJkAAJkAAJkAAJkAAJBJQAFZqAkuN5JEACJEACJEACJEACJEACIU6ACk2I3wJmgARIgARIgARIgARIgARIIKAEqNAElBzPIwESIAESIAESIAESIAESCHECAf6wJhYGoJAACZAACZAACZAACZAACZBASBIIsELDVc5C8rbx2iRAAiRAAiRAAiRAAiRAAiBAlzPWAxIgARIgARIgARIgARIggTBLgApNmL11zDgJkAAJkAAJkAAJkAAJkAAVGtYBEiABEiABEiABEiABEiCBMEuACk2YvXXMOAmQAAmQAAmQAAmQAAmQABUa1gESIAESIAESIAESIAESIIEwS4AKTZi9dcw4CZAACZAACZAACZAACZAAFRrWARIgARIgARIgARIgARIggTBLgApNmL11zDgJkAAJkAAJkAAJkAAJkAAVGtYBEiABEiABEiABEiABEiCBMEuACk2YvXXMOAmQAAmQAAmQAAmQAAmQABUa1gESIAESIAESIAESIAESIIEwS4AKTZi9dcw4CZAACZAACZAACZAACZBAZCIgARIgARIIvwSeP38uz56/kOcvXsjLly9l89WDMuzwTxIhAsocQbpmrSlF3s8uESNyfCv81gKWjARIgATCNwG+wcL3/WXpSIAEPJTA02fP5N6DB3L/4SN58vSpiJeXRI4cSQq/n00pL9BmIsjmawfkq9UdJfqMYtJz+3R5oRQeCgmQAAmQAAmENQIRvJT4N9NHjp2STBnS+fc0xicBEiABEghiAmjSHz5+LM+ePddWl2hRo0iUyFFeKTE+L77+4h4ZsGeObLp6QB/skqWm9Mn1nc+IDCEBEiABEiCBUEqALmeh9MYwWyRAAiTgXwJwKXugLDKwtESLFlViRIumk3isFJynykrzQrmdGYkcObJEjRpViiTPrv82KMWm3+7ZMnD/PGXM8ZK+ueubqNySAAmQAAmQQKgmQIUmVN8eZo4ESIAE/EYASohRZmLGiC5Ro0SRO3fuyP379/XcGXepQLGJEyeOFFaKDf6K/t5aBh2YrxzSRPpQqXGHjeEkQAIkQAKhiADn0ISim8GskAAJkEBACcDNDJYZKDOYL3PlyhW5e/eur8oMroVFA27duiXXr1/XcdeVHSWfJf5UBiqlpvfOmQHNDs8jARIgARIggWAjQIUm2FDzQiRAAiQQNASwAADmzMDNDMoMlJNnKswuDx8+lJs3b+pjV69e1ZYb+xRKuKVZSk2ZkfrU5y+e25PgPgmQAAmQAAmESgJUaELlbWGmSIAESMDvBLCKGZZdxpwZKC2YS2OXB2q1M0isWLH0/JhHjx7Jv//+aykwJi7mKdTqJQAAQABJREFU2eD8CGpN565qcYAhh36UXjtnmMPckgAJkAAJkECoJMA5NLbbglHLAwcOSrJkSeXjjz/WR/755x/59+JFWyyR6NGiS7ZsWR3CPOHHuXPndTFTpUppFRcuLadOn5bs2bJZYdwhARIIPgJwGXvx4qXEiB5Nz5lxtsxAQUHbFi9uPHnp9VK7osWIEUMvEoD2DXNoEiZMaGUYyg6sOb3VSmc/qAUC7AsJWJG4QwIkQAIeSgADRugrvlAW7KxZs0qkSJFckjB9ysSJE6s+ZSYdD/Majxw96iN+juzZ9SItT548ke3bd0jy5Mkkbdq0Ot6bzrl8+YqcO39OTBo+EveQACo0r270xo2bpGat2pI7dy45cviIVKlSWfr27SM7duyURb8stqoDRjXxLYe/Nqy3wjxlZ8GCBdpHv0f3blaRjx8/IY2+byx79+yywrhDAiQQfATw0UwIlmb+7/5168JQbG7fvq0tN3Atu3z5skRX82ugwMSPH1/gYnZaDUYkSJDAQaFBAlhIIGbMmPJHicGSK34GK03ukAAJkIAnE8AAUpUqVeW/GzeUi6/3KpLLf/9VMEhklw1//SV16tSTEiWKy7FjxyWzGiSfNGmCtoyPHj3WivrgwX3Zv/+A7N61Qw8yFS/+pXz00Udy/sIFKV6smAwZMsjXc9BH7dCho9xXVvi//94iyZMls9L2tB0qNOqOYwSyQ8eOMm3qFF35Ll66JJUqVZYmTZpI5cqV9J+pGN/WrKWUntzmJ7dOBJ6rztXBgwfl0eNHkuXTLMrFJaaOAcb7D3h/58KckjVLFt3Zwu9r167J6TNnJGOGDLqzdfPmLcHocZYsn+roJ0+elHfffVd3vm7cuCkX1MMOK5lv6brLi7m+fQvrU5w4seWdd97RwUePHtOWunjx4unyPFONWORIkVVD86FEj64mXb8SjMCcPHlKEidOJB9++KEOxTyEBw8eirFkoT5FjBBRkiZNoo/j2OHDh9XoSxrrehgVP3rsmD4eM0ZMlVY6h1EfV9d5lQVuPJzAc/VsRVLuZk+fPrFcze7du6fn0EBpwQpmsWPH1gsEvBfnPVWvk2nXMyg4UdRKaFgQAAoM4hjBKCGercLJsqsPcz40wdySAAmQgEcTmDNnrhrYfSEb/7dB91/QJ5w0abK0adPagcvkyVNlQP9+UqtWTa1sZMqUWU6dOqW9f376cb4Vd8KEiWohl5jy3nvvSYOGjXT8Ll06a2t7vnwFpHz5slKgQAFxdQ7a9r79+smcObOkUuWvrTQ9dYcKjbrzR5X57+nTZ5IxYwb5+edFkjp1atm6ZbNDhxIVZNeuXcoSsVcmThjvqfXF13KjU1S5ytdq1aQX8q5SDE4oJWTFn8slSZIkeqS4QoVKkjNnTtXReqpHJE6eOKZHOEaMGCnTpk2XDBkzyjF1L2bMmK7Ns61at5YG9etLzZrfSo+evdVoRy0pVLCg1Pj2WylXtqxWaDAC7SpdjE67y4urQgweMkSKFC4sX39dReetbLnyMmvmdClSpIhUq/aNpE3nbfo9feq0DBo0UMqVK6vrSns1MoI4+/fvl9q1a0mb1q1kxYqVsk/9HjF8mL4UGsDoaiQHDZ6xBIID6lPnTh2ladMmAoUK5YCF8Nat23JZKUF//LFc1cVUbq/jqhwM8zwCcH+A1RjzXyBwF4MrKP7gqqC/TaNG76A0w+oCJR1h+MML8b///tMvU7tCg3SQnl15RxiFBEiABDyZwE713q5Vs6Y1GAuFZdasOT6QJFGDnDfVYBHk7p27epsgwWvXXgRg4GncuPEyc6b3PMWtW7ZKt65ddVy009WqV5M9qs8JhcaI/Rx8R2z1qpVqgOr1YJSJ54lbKjTqrl+5clWeqJHMcuUrSrGiRWX4iBHyxedfyNChgx3qxLDhI5XVprHEjRvXIdyTfixZslSZT70tCSg3Ot9GoNDUVMpGjRrfaGUQ5lZ04KtW/VpPNIb1Y8niRbqjlfmTLPo0WELmzpsvmzZtVNaKhLLgx5/UiEN/+fOP32X69GlStkw5yZw5s7mE9OrVR9KkSaOVAARifoCrdH3Li5WYix104tq2a+/jCKx38INdsOBHmT9/gVZo0AH8Y/lv8sknn8ievXulfv2GWqHxcfKrAHQgGzduYilKsEAV+OwL+bLklzpGmjSp5ZdFP+v95i1ayu/Ll0vLFs31yLl/ruPu+gwPnwTgToZJ/LCoQODPjcn/2OKFBzfZEydO6JcnLH34Q12GwIIDBQgWGWdBekiXQgIkQAIk4E3gxImTqp9Tw8IBF6/jx49bv80OBjBLlSotS5culTNnzkrrVi11H8ccx3b27DnyqfJUyZMnt9xQLmxwG8McbiPvJ08uBw8dMj/11n4OAqD4YBCZIkKFRtWCp8pigIr0559/aDchuAzlyJlbmjVrarkNYZLWATXqPmXyRI+uNzlyZJd6detYDKCQjFcmUwgsMego9enTV7uPbdq0WfIXyK+PXVejwEmTvn5QdaD678DBA/pB7tW7tw66dOmyHFIPMB7QtEpxGTlyhNT7zvuL5aNGjdauXKtWrrA6Wu7S9S0v5tqutuPHT1AKSmbdSNiPd+veQ7ucbdy4USm6Q/Sh7NmzCRS8icrcjAmCaJCM/KLmXcF6BFm7dp1WdM6eO6frWWFlCYJ88MEHUrDgF3Lo4CHtM4tGr2XL1npUfefOnZYJ27fr6IT4Hwl4vUYAv264kmHgBcoOXnj4w3dpoERjQOLiq4VOsDIalBYo285CZcaZCH+TAAl4OoGYMdWCKrYl8TEIigEkZ+nTt5/kzpNH6taprbxVTsiokaP1QGi6dOl0VFjQ4W42e/Ys/dvMx0F6Zh8DTbCqG3E+x4Rz602ACo3i8H7y9yW2qpApU6bQVODLmCJFCrl06aKl0MAtCgqOJ1tnACdlypQO5s+oUb0nxeHY0mXL1EIK/aVHj+7KTauqTH13GoK1nD9/QdK9WrHDhGGLEWQILDt2iRjRe2R4h+rYwwXw5s0byiUwozKvrtbzZ+AeCHGXrm95sV/Hvg83sT//XCHr162R+g0a2Q9JpYoV9cTplGqFNyhwpUt/JeUrVJSiyqKH0Zqo9aI6+LCi/sAUDYEFEGLcd7AiFVyEIE+fPJWo+HaIEliaYN3CpMMIqqP588KfBb60vl1Hn8j/PJoAlJKXSnHBZH8jCDOCuWeoW5jjBffaM2quGgRumbDCoL65Umhg4XEVbtLllgRIgAQ8jQDaUczpLVyokC46VnnF3Fq7YA4wBjJ37dwuiRIlkkKFCsrevfu0O3oL5XUBmTlrtmRTg6K5cuXUv+HxgXb69OkzauU0bw8WuO1jMQEjzueYcG69Cbx+63kwkfTpP5I4cePI3LnztN/4r7/+pjvNxtXp723b9MRwzJGguCeAjnsuNTekYoXyegI/uEHQcVq2dJnky59Pu7bAzQWC0QcsMwhlEp39vHnzKJ/Tm7J6zRrtn/rbb797W0AmjFPWn6Ty5ZclpHPnTtKw0ffW8rTu0nWXF31hN//h/g8cOEAvPOAcBYsTwDqFPMKChO96YKnEb5UCki9fPr3Mov0czIVBg4e/zz//TB+CaRqKzsyZM3VHcuvWrQJGZslrjPLkzJlD/32S+WO1iMJB3dn07Tr2a3LfMwlgQQAoJmZwwBUFWFtQvzA6COslVuSBwgLFBy5n5pm0n4v0oHxTSIAESIAEvAmUKllSJk6cLGfPntOW7rFjx0vpr77SB1esXKmXZMbAN/o16zds0G0zLOJ79uxRA+SpdDzMbZyMhQTUnFu7VKpUUU95gHcH+gbwAClcuJCv59jP9/T910N6HkwC5r2JEydod5/uPXrqTueC+fMsawxMhc2bN9MTaD0Yk3ZNiSDuferLlysnCxcuVBP6P5FoSkFJqTrvkIGDBuuHEw9op06dLYSYR3Ph/FntwgW3Msxjwnljx4zWPv+YR4I5JXBjixQpol4pDEol5qu0adtONw5I01W62/7e6jIvMNnev+/9kUGTEZiQIWXKlJaSX3rPZzHHzDZffm+lBCMoffr01p1DTOgv9VUZ3XDlzZfXRNVbd+46M2dMk8ZNmkm//gP0aIyZm4O5SFi5LU1a75EezKcZPGiQHnX37ToOF+UPjyQAax9W4YukLDSw0sDi4k7wooUygxcq4mFQwczBsZ+DOFB2HisLIoUESIAESMCbQPHixaT2oZrKS6OMDqj+TXVrJVwoN8WKFpFMyptk1qyZej5ux46ddR8BixuVKlVKnzNLzZ2BdQaLA9mlfbu2ytW8nZpXk02vijpyxHDrWzTuzrGf7+n7EdTLzOZ97TccR46dkkwZ0vktchiL5bx8aRjLfqjILuaSxIsX33KrwiT/BOq7F8bUikxionL+Ap9rhcZkGsvH4vsY7pQBE89s/ZKuc16wosj0GTNNEnpbViky+OZQQAQrR8HnFXMU/CNQrPzjvhjQ6/gnT4wbNgnALeyuUtKjqnkzL9WH3vAc+SYH1PLpcDuDVQZKC+pWrly5JFOmTNZpcJOAhebOvfvq+zaRJdYrpd+KwB0SIAES8GAC3hPxHV19YSmH5dsumJ8d89UAkT3ct320zRho92tfyLe0POkYLTROd9t56VKnw/zpBwKwYtgltTKzxlbfeLELHtZixYrag1y6ejlEcPrhl3Sd8wJLG/4CSzCSjT//in+UGaQd0Ov4N1+MH/YIQCmBMoOJqnHUd5+goLhyIUPJYJWB6xnqE/bNSmZIwwiWcsbz+eix98pn0aJGMYe4JQESIAESUATMPFg7DGdlBsfgeuZfMfNt/Xuep8enhcbTawDLTwIkEOYJvFBWmnvKShNZjQ7GjBFdsFIjLIfOAt9sWKHxUU0s34x9KDZ51Go8mOwKRQeLCMCF7cHDR2q1NGWdCYDC7nxd/iYBEiABEiCBoCTwelguKK/CtEmABEiABIKMABYGiBE9mjxXLg+Y94KVGl1ZDqHkYJ4NvkwNKyFcJWGlQTgsM1Bm8Pvho8fa3SFGtOhBlmcmTAIkQAIkQAKBRYAuZ4FFkumQAAmQQAgSiKbmvLx86SVPlHLipf7B3RLuZ7DCmMn/mBeDb9RgcY8HDx/oY1gOPXfu3Hr+GiwzUGYwtTK2+v6BWT49BIvFS5MACZAACZDAGwlQoXkjIkYgARIggbBBAFYatUKzttLce/FQoqtvHGGCv7a6qOWZYZWBQgOFJW26tHo+DZQc/MacGShDmIgKZcaVj3jYoMBckgAJkAAJeBoBKjSedsdZXhIggXBNILqa0B8pYiR5pJZkhrXliXJBw1yYGMrNDMufm5VzsDoavjODOObL1zqecjOjZSZcVxEWjgRIgATCHQEqNOHulrJAJEACnk4Aign+YHF5+vTZq+/J+FwkwHDC0sxYzQzzaygkQAIkQAIkENYI8O0V1u4Y80sCJEACfiSAeTX4wypocDuDVcb702NqFo1yLYPFBiujGauNH5NlNBIgARIgARIIVQSo0ISq28HMkAAJkEDgE8AqaPijkAAJkAAJkEB4JMA3XHi8qywTCZAACZAACZAACZAACXgIASo0HnKjWUwSIAESIAESIAESIAESCI8EqNCEx7vKMpEACZAACZAACZAACZCAhxCgQuMhN5rFJAESIAESIAESIAESIIHwSIAKTXi8qywTCZAACZAACZAACZAACXgIASo0HnKjWUwSIAESIAESIAESIAESCI8EqNCEx7vKMpEACZAACZAACZAACZCAhxCgQuMhN5rFJAESIAESIAESIAESIIHwSIAKTXi8qywTCZAACZAACZAACZAACXgIASo0HnKjWUwSIAESIAESIAESIAESCI8EqNCEx7vKMpEACZAACZAACZAACZCAhxCgQuMhN5rFJAESIAESIAESIAESIIHwSCByQAt15NipgJ7K80iABEiABEiABEiABEiABEggUAgEWKHJlCFdoGSAiZAACZAACZAACZAACZAACZBAQAnQ5Syg5HgeCZAACZAACZAACZAACZBAiBOgQhPit4AZIAESIAESIAESIAESIAESCCgBKjQBJcfzSIAESIAESIAESIAESIAEQpwAFZoQvwXMAAmQAAmQAAmQAAmQAAmQQEAJUKEJKDmeRwIkQAIkQAIkQAIkQAIkEOIEqNCE+C1gBkiABEiABEiABEiABEiABAJKgApNQMnxPBIgARIgARIgARIgARIggRAnQIUmxG8BM0ACJEACJEACJEACJEACJBBQAlRoAkqO55EACZAACZAACZAACZAACYQ4ASo0IX4LmAESIAESIAESIAESIAESIIGAEqBCE1ByPI8ESIAESIAESIAESIAESCDECUQO8RwwAyRAAiRAAkFG4Pnz5/Ls+Qt5/uKFvHz5UjZfPSjDDv8kESLgkhGka9aaUuT97BIxIse3guwmMGESIAESIIEgJcA3WJDiZeIkQAIkEDIEnj57JvcePJD7Dx/Jk6dPRby8JHLkSFL4/WxKeYE2E0E2XzsgX63uKNFnFJOe26fLC6XwUEiABEiABEggrBGI4KXEv5k+cuyUZMqQzr+nMT4JkAAJkEAQE0CT/vDxY3n27Lm2ukSLGkWiRI7ySonxefH1F/fIgD1zZNPVA/pglyw1pU+u73xGZAgJkAAJkAAJhFICdDkLpTeG2SIBEiAB/xKAS9kDZZGBpSVatKgSI1o0ncRjpeA8VVaaF8rtzEjkyJElatSoUiR5dv23QSk2/XbPloH75yljjpf0zV3fROWWBEiABEiABEI1ASo0ofr2MHMkQAIk4DcCUEKMMhMzRnSJGiWK3LlzR+7fv6/nzrhLBYpNnDhxpLBSbPBX9PfWMujAfOWQJtKHSo07bAwnARIgARIIRQQ4hyYU3QxmhQRIgAQCSgBuZrDMQJnBfJkrV67I3bt3fVVmcC0sGnDr1i25fv26jruu7Cj5LPGnMlApNb13zgxodngeCZAACZAACQQbASo0wYaaFyIBEiCBoCGABQAwZwZuZlBmoJw8U2F2efjwody8eVMfu3r1qrbc2KdQwi3NUmrKjNSnPn/x3J4E90mABEiABEggVBKgQhMqbwszRQIkQAJ+J4BVzLDsMubMQGnBXBq7PFCrnUFixYql58c8evRI/v33X0uBMXExzwbnR1BrOndViwMMOfSj9No5wxzmlgRIgARIgARCJQHOobHdllOnTsmZM2clU6aM8v7771tH4JJx4OBBua3cMrJkySLvvPOOdcwTd/777z85qVjlyplLLwNrGOzatUs+/vhjiREjhgkK1u1BdY9w3xIkSODn6/7zzz/y78WLDvGjR4uu7vOnsn3HDodw/PgwXTrRnUF/nhNFzWc4cvSoj/RyZM+uJ2b7OMAAEvAjAbRPL168lBjRo+k5M86WGSgosMjEixtPXnq91K5oeEahvKD+Yw5NwoQJrauhfsOa01utdPaDWiDAvpCAFYk7JEACJOAhBDBAdODAQdUWPpesWbNKpEiRXJYc7SziJU6cWPWFMjnEM8eSJUuq+0n2BE6cOCFnz56T9OnTS6pUKe2HrP1ff/1NsmfPJh988IEVBrfigwcP6X5Phgzp9UCUddADd6jQvLrpo8eMleHDR0i+vHnl723bZNzYMVKuXFntX16zVh3VCbgsadKkkebNW8rcubMlR44cHlhdvIs8dtx4mTlzliyYP08++6yAxaF27bry559/uH0grYhBtNO1W3dp17atFCpU0M9X2LFjpyz6ZbEVH6PW+FbH2jVrZJwqJzqKRrZu3SqTJk2QR2oVKf+ekzJFChk9eqxJSh48uC/79x+Q3bt2yHvvvWeFc4cE/EsAH82EYGnm/+5ft06HYnP79m1tuYFr2eXLlyW6ml8DBSZ+/PgCF7PTp0/rAQC7QoMEsJBAzJgx5Y8SgyVX/AxWmtwhARIgAU8igAGjKlWqyn83biiXXu9VI5f//quPgdsNf/0lderUkxIlisuxY8clsxrcRX8BsnHjJqlZq7bkzp1Ljhw+otKrLH379tHHRo4cJVOnTlN9qc9k8+bN0qlzR6lTu7Y+Zv5bu3adtGjZSlq1bCHt2rXVwevWrZcWLVpK/gL5ZffuPVK2TGkrTXOex23Vi87fcvjoSX+fE5pPOHfunFfGjB97qZF6nc2VK1d5lS9fUe+rDq9X1mw5vJ48eaJ/jxw12qtFi1ahuThBmjc1qqtZdercxatV6zYO1wJDNcpghakRCa+tf//tpSYc6zA1Qdlrz569XmrEV/9WI8de+/btt+Kr0QavTZs2e6nRCitM+fR74f6ojpnXtm3b9dY6qHaQhmoE9DXKlC3ntWHDX9bh+/cfeP399zavCxcuWGEmPTUy7aUsSla42anxbU2vUaPHmJ/WFnFRPuTDWQJyzvjxE7yqVq3unBR/k4C/CdxV9fzuvfteyrKi6zrq++HDh9Wztc9ry5YtXgcOHNDPyM8//6y3Z86c8cKzieOzZ8/2Wrp0qdeRI0esc3E+/tSL3EvNy/G6deeuv/PEE0iABEggPBCYPn2GF/oWpt+C9/2IESN9FK1a9Rpec+bM1eH37t/3+iBFKq+TJ0/qdjR3nrxeq1at1sfQz8TvS5cu6zYb8Y4ePaaPob+EfoZd7t27p/ug6IcOGzbcOoQ8KauN/q28ZvT10L/xZKGFRqmw0HRLly4t165eky2btyiTYhZZtmyJVm4TvpNQnqiRTPig45sNN5WW/l4izx1Rx0hD0mTJpPH338sXBQtJ/359JXbs2D4GAtQDL9OmTZcMGTPKMeVqNWPGdO3GhVGGFi2aSdWvv5bmanTh008/1eE//7xI2nfoKEWKFFGWi/1Su3YtadO6lbL4rJAlS5bK7Tu39TVwj1au/FNSKIvHH3/8KU2aNpOcOXPKxYv/Khea15OgMVrSrGlzyaTMvhgRad2mlTRq2FCnN0WNhuB+VqhQ3sHSBpe5vXv2ysQJ432WR42iNG7SWOLFi+dwLCDnqAZKW39mzuTcBAeY/BEgAnCHgFURLmQQuIthdTP8YdlmHEd9hysZrC6owwjDH5ZrhgsprITOzzHSix5drZhGIQESIAEPJbBT9Qtq1aypLd1AUKtWTZk1a44PGkkSJ5KbaloC5O6du3qbIEFCOar6P+ibZMyYQdDPSZ06tWzdslm7o6ENxhQGWNIhN2/clA9SvHYpQ9hw1ZcqXqyYJEjo6Eo/ftxYSZIkCaJoqzu2nu4eTIVGVQKlKcvadetkz9698sknmXXHeviwofL111UkrXIzq6U61wUKfC6JVIVFp+CP5b+j7nikLF6yRCqUL6fdyjJnziyrV6+RSpUqOrBQow0yd9582bRpo3pYE8qCH3+Svv36y59//C5jxoySmt/Wkvv37is3vqsyY3pLfS46U38s/03x/0Tfh/r1G2qFBgfhX7p7907dufq6ajWB+bW2MslCmZk3d4588cXnqtE4Jl+WLKXTwkMNZWbOnFla2VGjJFK0WAmpUrmKPo7/tm7Z5MNkPGz4SGmilJa4ceNa8bCzc6d7RScg58yePUc+VXOx8uTJ7XAd/iCBgBBQI3Lad9q8zODfjcn/2GIQBm6UeIagSMOPG3/w8YbA7QwKkLJA+7g00sPiABQSIAES8FQCJ06cVH2WGlbxk6sB3ePHj1u/zU6bNq2lVKnSoizeei5261Ytdf9nr+pXYlC8XPmKUqxoUaWgjJAvPv9Chg4drJWk4cOGSNVq1eXDDz8U9FWWLF5kkhTlwaIG13+VDevXysRJk61w7GBQF4L2v1ev3qpfVt5q1/UBD/yPCo266c+ePVWjlnF1hxs+kmXLlNFKDRQaKDlz58yVrl27CCZzjRs/UQYPHqoro6fVF4z2Ll/+h2RTk+JgAYkZM4Z0797Dh0Jz4OABuaEsWb1699aIoDAeOnRIzUd6IdmzZZO8+fJKn779ZPnvv1k+qZjsBksMHlpMqsP5Roqp0Qmz0EDePHnk6rVrcv78OX34888/01uMfpgH/Nz583JfjUjPUooD/oycPXtG7+bMmcNKzxzbvn2HHFCWoSmTJ5oga4sRkqZNm/hQdAJyDkbNJ0yYKLNnz7LS5w4JvDUBr9cpoA3DIhRQzPGyg0UGf5hAqlwtlX/3MWXR9F4IAyujQWnBSKGzUJlxJsLfJEACnkYA/Rwsi28ElmsMGDkL+jS5Vf+kbp3acuLkCRk1crSeh/1U9S/RHzHzi5VbmOTImVuaNWuq5i/Gl3btOyqPl0Z6Ds2fK1bovucKNRcZbXinzp2lT+9ees6j8/XM76HDhsvBQ4dl2dLXc4HNMU/bUqFRdxyrRmRUrlFmwhf20aGGNQYdeEzgqlnzW103kiVLLiW+LCkDBvTzuNWpVq5apRlg0QT83bp1Wz+o6BwlT57cenYwKgyp+a03M3MgYsQIWqk5f/6CDjp85IhyOftE75evUFGKqtELjIRErRdVKlX+2pwmkaO8rqbogEHMvcKkfbjbQMzStNFVhw7yTfVqapTa+1zkJZ1aoeywcj8zaehIr/6DixwaGGfrjJq3oxWdqVMm2aPr/YCcM3PWbMmmlLdcuXL6SI8BJBAQAqjPL5Xigsn+Rux1/N1339VuDRgBhPuDmkOjo2HRAFhhMOnVlUIDC4+rcHMNbkmABEggvBMwlpPChQrpop5SC6l89NGHDsW+efOW9hzZtXO7JEqUSC9MtHfvPlmxYqUULFhQYisFKGVKb4sK3Hsx+Hrp0kVtOcdgOgbMIZ99VkAyZ/5Ur1wGxQeeJ3C7X7FypXaxR5x333vXWjQAbv2LFy9WysxS7T6M454s3r1DTyagyl6w4Bfyv7/+J5gPASVm8pQp2lUJVoHUqVLp5XvhZw4Lw/r163VlNJ12T0K3aNEv0qtnD+UmNk3/rVu7WrP77TdHFzwsRYwHGP73efPmUX6lN2W1WjUMnawJEyfqUYk1q1dJPzWice7ced2hunz5inxb4xvJly+fwPLxJoECBd9TNalZd8p+/325ZdXBMTQYZ86c1W5dcK+ZMnWqdsFxlS6UMyz5jHk7zjJs+HCt6GCugV0Ccg4sXJOVBQpzgygkEFgEIqnnCoqJb20SrC0YVYRSD79rtG1QWPBMwuUMrmfOgvTsq/w5H+dvEiABEgjvBEqVLCkTJ07Wyypj8Hbs2PFS+quvdLGhaOBzDBgIRZ9n/YYNui1GvD179ijX/FRqKeaPJE7cOGp13Hl6niOWX1aLrijFJbPVT4EHC6zpO9Sqq7DmYJA9a7asMm3qFO0BU7FCBd3fSZo0iaB/BVm8eIlgUHXWzJnKghNP9109fQDq9ZCeRuSZ/0ED79W7p2UVgFvU+AnjNIyqVb+Wo8pFI3uOXPo34k5+tRSfJ9GCHz4etjGjRzsUu2LFimpezBg998QcgDIxdOgQqfddfe07Gk0pNmPHjNYPvlqlQymPG9TEuFTyfePvpXXrNsrV7Bfp3KmjlPqqjG4U4JJmF1euLwibpSbVN1KLE8DUi3sGtzMzMj1r5nRp1ryFDBw4SDcQ3bp1tSY9O6cH03Dz5s18jHDAOoMFBXAdZwnIOXB/g3UGixhQSCCwCMBC+UxZWSIpCw2sNLC4uBO8eKHMQLlGPMydwYvU+ZlAHDxLj594LzTgLj2GkwAJkEB4JlC8eDGpfaimWjiqjC5m9W+qS+XKlfQ+lJtiRYtIJuXVM2vWTGnbrr107NhZ92Pg1VOqVCntQTJx4gRp2bK1dO/RUysx+OQF2mL89evXR9SKp7qfgkHaUaNGChQXCObrGNmtFKSoyg0NihCkTdt2emvmDuMHFKASJYrrcE/8L4J6mdm8r/2G4MixU5IpQzq/RQ5DsTDKiRc8VgJyFlhnnj51fcw5Ln+/JqCWbNb+n84dptcxXu/BOgb/VOeVxF7HcL2Hzpm7c3AsVqzYllua6xQYSgJhlwBG5dTSzfpl91J9+A3PnG+ilnHWbmewykBpwXOXK1cu9UHhTNZpcJuAheaOWrwjilKSYik/cgoJkAAJeCoB9AHVFHwH1170GWHptgssLDFfDQjZw7GP73s5ryZp4mDRFmdPEHOMW78RoIXGxgkV05UygygYBY0c2aeiYzuduy4IJEjguNSgiyhWEEaF8edfcafMIB3fjvn3OoxPAqGRAJQSjNxh4mqcWDG1guLKhQx5h1UGrmd4zrCPFzIGG4xlE3HwUsUctUePn+CnRIsaRW/5HwmQAAl4KgEzV9defmdlBsfgeuZO3CkziE9lxh01v4dzDo3fWTEmCZAACYRKAtGieS/EASUEbgvu5tNghBDKSsKECfUcNxjoocyYFzMUnfjx42sXtifKWhpFLchhX2wgVBaemSIBEiABEvB4AlRoPL4KEAAJkEBYJ4CFAWJEjybPlcUF816wko4raydcOqGgxIwRU/tvw4IJKw3CMUKIFdHw++Gjx9pyEyMaP6wZ1usG808CJEACnkCALmeecJdZRhIggXBPIJqa8/LypZfAsuKl/sFSg/kxsMqYyf+w3OD7BhHUvwcPH+hjWKY+d+7clmUGygwsN7HVXEIstU4hARIgARIggdBOgApNaL9DzB8JkAAJ+JEArDRqSoy20tx78VCiK1c0TPDXVhe1PDNW1YFCA4Ulbbq0ej4NlBz8hrsalCHMqYEy48pn3I/ZYDQSIAESIAESCFYCVGiCFTcvRgIkQAJBSwAflo0UMZI8Uis2wtryRLmgYS5MDOVmFilSRK2wIAdYHQ3fmUEc8yVsHU+5mdEyE7T3iKmTAAmQAAkELgEqNIHLk6mRAAmQQIgTgGKCP1hcnj599up7Mu6/KYOlmbGaGRcACPFbxwyQAAmQAAkEgAAVmgBA4ykkQAIkEBYIYF4N/l5oa8wLbZWBe5lgFo1yLYPFJrJart4v34kKC+VlHkmABEiABDyTABUaz7zvLDUJkIAHEcAqaPijkAAJkAAJkEB4JMA3XHi8qywTCZAACZAACZAACZAACXgIASo0HnKjWUwSIAESIAESIAESIAESCI8EqNCEx7vKMpEACZAACZAACZAACZCAhxCgQuMhN5rFJAESIAESIAESIAESIIHwSIAKTXi8qywTCZAACZAACZAACZAACXgIASo0HnKj/9/eeYBXUXRh+KQnJKH33gldehFFijTpooJSxILSFBsqYgELRQQUAWmCShH5RToiSq+CIL03pbcA6f0/39zs5SYkkEQIKd88z2b37s7Mzr57k8y3pywvkwRIgARIgARIgARIgAQyIgEKmox4V3lNJEACJEACJEACJEACJJBJCFDQZJIbzcskARIgARIgARIgARIggYxIgIImI95VXhMJkAAJkAAJkAAJkAAJZBICFDSZ5EbzMkmABEiABEiABEiABEggIxKgoMmId5XXRAIkQAIkQAIkQAIkQAKZhAAFTSa50bxMEiABEiABEiABEiABEsiIBFxTelH7Dx5NaVO2IwESIAESIAESIAESIAESIIG7QsApRstd6YmdkAAJkAAJkAAJkAAJkAAJkEAqE6DLWSoD5+lIgARIgARIgARIgARIgATuHgEKmrvHkj2RAAmQAAmQAAmQAAmQAAmkMgEKmlQGztORAAmQAAmQAAmQAAmQAAncPQJJSgrAMJu7B5w9kQAJkAAJkAAJkAAJkAAJ3D0CiQqa+CIm/ue7NwT2RAIkQAIkQAIkQAIkQAIkQAIpI5CgoLHEi+Pa2k7ZadiKBEiABEiABEiABEiABEiABO4+gVsEDYSLLZFzjERHYztal5v7rGN3fyjskQRIgARIgARIgARIgARIgASSRyCOoLGEiyVioqOjVdRggbixCRsRvrYmeYhZmwRIgARIgARIgARIgARI4F4RsAuamy5lsMbESFQUhEyUbNy4Web+NFdWrPjNjOHXFSulgl/pezUe9ksCJEACJEACJEACJEACJEACSSYQJ20zhIxljYGYCQ0Nld9++80uZpLcKyuSAAmQAAmQAAmQAAmQAAmQQCoQiCNocD64m8G9LDIySgICAmXv3r2pMAyeggRIgARIgARIgARIgARIgASST8AIGsvdDGtHKw2iZfbu25f8XtmCBEiABEiABEiABEiABEiABFKBgN1CY4kZZDGzbUdrHE1UKgyBpyABEiABEiABEiABEiABEiCBlBGwC5qbzW1WGkvg3NzPLRIgARIgARIgARIgARIgARJIWwRuETSw0CA1s2WpSVvD5WhIgARIgARIgARIgARIgARI4CaBWwTNzffM8H0zNzFxiwRIgARIgARIgARIgARIIC0SSEDQpMVhckwkQAIkQAIkQAIkQAIkQAIkcCuBRAWNzfXs1gbcQwIkQAIkQAIkQAIkQAIkQAJphUCigiatDJDjIAESIAESIAESIAESIAESIIHECFDQJEaG+0mABEiABEiABEiABEiABNI8AQqaNH+LOEASIAESIAESIAESIAESIIHECLgmdoD7SYAESIAE0jeByMhIiYiMkkh9SXJ0dLRsuLBHRu37UZyccF1OMuiBrtK4cHVxduazrfR9pzl6EiABEsjcBPhfLHPff149CZBABiQQHhEhAUFBEhgcImHh4ZqNP0ZcXV2kUeFqKl6gZpxkw8Xd0uq3geL5bVP5YOs0iVLBw0ICJEACJEAC6ZGAU4yt6P+7GPMED0/0sISFhYv/tWvSuHGTONf164qVUsGvdJx9/EACJEACJHD/CeDveHBoqERERBqri4e7m7i5usWKmFvHt+rMDvl0x/ey/sJuc/Ddql1lSK3nbq3IPSRAAiRAAiSQhgnQ5SwN3xwOjQRIgASSSgAuZUFqkYGlxcPDXbw8POxNQ1XkhKulJkpdz1BcXV3F3d1dGheqbpbVKmw+/us7GbZrpnm4NbT28/a23CABEiABEiCBtE6Agiat3yGOjwRIgATuQACWGUvMZPHyFHc3N9Pi+vXrEhgYaKzvCXUBYePr6yuNVNhgabJ4gAzfPUsd0kSGUNQkhIz7SIAESIAE0iABxtCkwZvCIZEACZBAcgjAzQyWGUvMwBpz/vx5uXHjRqJiBv3Dvdjf318uXbpk6v3RZqw0yFdFhqmo+Wjb9OQMgXVJgARIgARI4L4RoKC5b+h5YhIgARL47wSQAAAxM3Azg2UGYgYCJUL3WwUWHOw7d+6cnD592qwhZqwClzS7qGk9xuyOjLp53KrHNQmQAAmQAAmkRQIUNGnxrnBMJEACJJBEAshihrTLVszM1atX41hlIGYuXLggBQoUkHz58pljwcHBsnfvXiN+rNNACKGtk+Z0HqTJAUbunSMfbvvWOsw1CZAACZAACaRZAoyhib01+Ie/e/ceKViwgFSsWNF+wzAZOHr0qBw9dkwqVqggRYsWtR/LjBsHDhyUa9ev3XLpNWvUELdYv/1bDt7jHSdPnpJz58/FOQueVNfQMaWF8t3330vWrFmlcaNG8u6g92TYZ59KtmzZ0sLQOIZ0TgBWlqioaPHytCUAQMxMfMvM4cOHxf+qvxE9hw4dkpCQEClRooRZ429bBf27ZhUcg9j5SDOdfaYJAqwkAtZxrkmABEggsxFAwhXMD6PUav3AAw+Ii4tLggiseSQeHFWsWCFOvUBNo7/jrx1qSfeQatUeMElZrE5u1w5/vzHHqVipohQqWNBqYtY4duLESSlXrpwUL14szrHM+IGCRu/6unXrpWu37lK7di3Zv2+/dOr0uAwdOsRk+/loyFCZ99M8qVGzhvy1/S/55NNPpGOH9pnxu2Ku+aOPhsjmLVtuuf6dO7ZLrly5btmfGjtmz54t30yaHOdUGAvGlBZK5cqVpesz3QR/0J54ohPFTFq4KRlkDHhpJgpSM6MgAYBVgvT79s8//wi+f6tXrzbbJUuWNCIF/3AvXrxo4mzKly9vrDJWO/SRJUsWWdpshNTK7mdic1z44k0LD9ckQAKZiAAeGnXq9KRcvnLFiBFc+pLFC8XLyysOhdVr1kiPHj2lWbNH5eDBQ1JJH4x/880EU+fMmTPS8fFOOkfKLVeuXJa8efPKj3PmiLd3FrlduxEjP5cff5yrD2ery6YBr8nnn4+Uxx5rZfocM2asTJkyVRo0aCAbNmyQt98ZKD26d48zpsz2IdMLGjyBfGvgQJk6ZbL5Ip45e1Y6dnxcevfuLQEBN2T69BmyefNGo4y3bduuX9hnpUXzZuYffmb7suB6L1y8ID7e3jJ79ixz+cOGDb9F4GCiBItWVs2ehKe/cIe5pu80On7ihBQvVtz46oeFhZljeNlfpE7Kdu/ZLTlz5EzwKQOsZMe0vxsBAeacefPkkcKFC5ttxx9jx46RcmXLmF3xrUXWmErphA6TORT0u/Pvv8229cNDU9laFjqM68CB/Wp5cpey2q/1NvV9+/bZXlYY26hokSKSO3duOXb8uJw7e86MzXpaggklyrZtf5qnO4GB+pRm506pUrmKedFhbBdckUCKCETq3y+IDbwsE3EweJKIgjgZiBJv/V3F714e/Z3B70ChQoXMgweInRw5cphYmlOnTunvXXHTDj/wu4m/i40KVtcXcwabbQoaOx5ukAAJZCIC33//gz7UiZJ1a1ebOcAzXbupUJkkr702IA6FSZOmyKeffCzdunU1Dy8rVKhkvHtKly4tY8d+pULkMfng/cFmvtO5SxdZv2G9ziWbS2LtME8ZP36CbNm8yXgOrVz5uwwfYRM0+Fs/ZuyX8tuKX8XPr5yZgz3/3AsUNHHuSCb8cODAAfUjj5Dy5f3kJ7XEwBVj08YNxlS4a/cus98y89VUKw2esp/Qibk16c1syC5euCh58+VVs2tVc+m5cse1ysyaNdu4VVlcqlerJnPmzJKNGzdJ7z59pWrVKrJrl+0lftYxZGJq376jsV58Mepzq6lZb9q8Wf9wvK4Tr/P2/S+++IK8P/g9+2dro2yZ0rfcF4iWDz/8SGZ8971VTYYP+0yefrqLmQDivI4FLoUb1q+VI0eOSLt2Hcz9xnHsn//zPPNkpW+//nL8+Al7M7iQbdu+XebP/8W+74UXnjd/vKZOnWbOvX7dGjOB7NCxo7mWXX/vMJ/tDbhBAikgAAGDhwIoiIFBuaJPErF///799kB/iJmcOXMKxDjcH+H2gJTNqAfx4yho0Af68vT0xKZdJJkP/EECJEACmYgA/rd369rV/kATgmXGjJvzCQtFfp0XXdWMkSg3rt8w6xz6kBZzkLk//STLly2RXxYsEF8fX/luxgxjnUGlxNrBAoR5A8IgUFzdXM3DJmzjHWLwQsHDKpSrV65KkaJFzHZm/pHpkwKcP39BwlTtttXJKyww/fr3l3feGWS+E5UrVdIn9Adlu36hUeao6Q/lomYLyowFkxwIuvz5bb9gCTG4dPmy9Oz5rHH3gvCANQJcrYI+lixepFawDubYosWLrUMyb97/BE8h9uzZY5+cjRo12giAmT98L7/M/5+9bkIbrR5ro1afStKkaTP58qtx5snymrVrjaDo06e3sbQ99FADeefdQRr87G//49C0aRP5feWKOC5zrw543Vzr99/NkLFjRht3naEff2I/Lf6YoA2WevXqSjadJEJk7d6104g2CBmwcixDhn4cR5g5HuM2CaSEAP5ZIogfxYp3gXDB07169epJy5YtjZBBCmcInCVLlpjfL8TSwDKDmBn0Eb+gL6vfhI7Hr8/PJEACJJARCRw+fEQt2wXtl4YH3Pj7Gb/AYjNJLTePNGosdevVlwGvvqJzipyCuEaUl17uI2vXrNW5yVfqfva4SamP/Ym1wwOnYsVscTF46DtEwx8wj0GBt8gXo0bKk091NvMdPCyGdSizF9fMDiA8wjZJX7ZsqT6lLGaeaNaoWVv69u1jPg8fPky/fE8YNys/9TXHRDazBnT/q09yUUqWLJHo16Z5s2by07x50rffK7Jp0yZTLyDWVQwf8KSjSpXK8lKvXsaisW/vPnmkYUN7f8+/8KLZhsVs7o9zjDkVghIZmawnxvbK8TbwhyF//vyy4JcF8sUXo6WIuoKdVGsayvdqofnzz212cYpgaBxHKah/oMqWLatPPdzMZysDFMTPI4/YxjZa/VVhZXIsaGOVhx9+WJYtXy7PPvuc3QIV5BDPsHTpMiPY4K4XX+hYfXBNAikiEBO3FYQILDAoCF5tpMko4Gd98uRJ+eOPP+y/S/ANh7XGx8cnbgf6yRIztgM2wXRLJe4gARIggQxOIEsWL0FqfKvgoSxceeMXPLCsXaeOPNujuxw+clgfhH4pbdu2sc8XXxvwqjz+eEfjcgZPjRUrfjNeKYm1g6saCtzLer3U2yQ56tL5KbMPIumNNwfKyy/1Mn/bMfd4862BagVaektsj2mQSX5kekFTuFBhI1aKFbNlL4OvOdyLzp49Y/zO62iigGNHD8vly1f0i5lV/MpXlMLqh54ZCwLPUGrVqpng5QcFBUvzFi01PWx+6dunj1pLygssFY4lSH3yUYKDbdYLL/Xzt0rDhg/L6C9GCXxWYWFZtXqN9O/XT2bOnGV8R616ia0fVUtLJbWqlStX1riwHTp40EzYUB9m4ipVqsjzz/U0zXG/4YaDUkBFkGOx4m9CQkLNbjyhRsxBQn/EUAEWqJ7PPS/16taV7t27ibePt6xfb2Nl9QvfV7i5BSujBQsXWru5JoH/RABP6qJjLSx4opdYwXca/yAh1hGgCncG6101+Acdv0AIWfE4ccVN/Jr8TAIkQAIZl0CZMmWMC3qjRx4xF4n4YMTUOhZ4fPz++x+yfdtW45aOB6E7d/4ty5f/ah6Oo66VTRIuwkjUclr/Dt+uXf/+/Yz4eeWVAYLYXrjKW3+Lt27908xHBw161wyjQYMHde5TRa3ve01yK8exZabtTO9yhsmvb1Zf+eGHmcbNaeHCRca9CBPjwMAAadS4qU5O14uvr48MHz5C4J6EDBWZrUyb9q2MGD7SXDZMsF9/Pd4shw4dNvum6nG4taCUL1/B/MLu3m2LlTE7Y398qYFsSGOM7HEoiKOxCvxBf/ttpcaj/GV25VZrGJIBoLRv1+6OWcsWL1kqGCdiZlAgYOrVr2e2D+mYIUjm/e9nzYg2SUJig+pwsIKmV3QsmPw1btzYWHPGjftaPv7kUxOX0KRJY8dq9m3ruuuq6xm+G/v3H7AfszYgkgcnEPdjHeeaBFJCAMH6lqsZ/KpvV/DPEFnO/NXPG++buazuoRDqjpnRrPboC+mgUVxcMv2/CQsL1yRAApmMQMsWLWTixEkmPTIeBo0bN14ea9XKUFj+66+yX+OwjaVb5xerNJsk/h6j3o4dO9TLp7hxD0Nm3EmTJ5sHSohjhBdJrZo1b9sOD1IH6Wse8EqKMer2Dos6rDUomE8cP37CWNtRD94n8PywvE5MpUz4I/FHepkEBlwzJk6cIFDBg9//wHxRZs+aab5o+JKOGf2F9FP3KXxZkNZ54oTxmYRM3Mv8WrNtWK5SyLwRv2Bf927dpPNTT8mPc+fKqlWrxHqi4Vi3/oP15f33PzS7EDjfXDPGIQc7CpIFYIGF5/XXX5M6dWob/1Ace+89PImwub44xa6x37FMnPiN+Wi1b9WqpXmiMWLEcBmp6Q+7a4Y6uHx98OH7EhIcYp6odO36TByXN6u/MaNHySuvDpDPR31hdkFQvfvO29bhOOuHH37IxM0gjSL6h2siArMdy5djR5tj1j7rSYv1mWsSSAkBPO2L0H90yHZmBfrjH19iBW6b+LuGgixosPBYn602sN5gf2iYzXLjmsg7F6z6XJMACZBARiXw6KNNpfverpqlrLW5xM5dOhvXMXyAuGmqDzor6P/8GTOmy+tvvCkDB75j/tdjboEYRhRYUl559TXj4YM5Qv9X+qur2IPmWGLtEPOIuRTKA9WqmzV+/L1zh3HF//jjIfLkk53NvAyhEMjyirlPZi5Oqu5QTGAoXAzwzxBLmP4z89cn5o0bN4nD59cVK6WCX+k4+zLKBzypTMifHHwQPIsJQGYt1arXNCbONatX3YIAv8D4xdu6ZbP5hYJbCyZEjjEviCFB4BoEYjsVB3hBleXnf0uH92gH/E4xeUuOmMATEbjfWG5otxsa+vf29rFnnbpdXR4jgbtBAH+zbwQGCV4km8XL01hbYIFJrOD7vHHjRiO48TuKp4lws4VF0iqwMsJCcz0gUN9v4yre6kPOQgIkQAKZmQBe46AvezDZIS0O+PsZ/yWbePCbJfahkFXPWsMt30v/TuNvb/xyu3bx6zp+Royyr74ig0UzwRHCTQIJiRkcxQQ4M4sZMGioVgh3d1ugMT47ljJlSgviXyyXlzuxwlNlK9WsYz/3ejslyRwcRdmdxpeS/u/UJ4+TwO0I4B8jxAyCVj00qQX+huHhi+WaEL8tRDfcFUzGQn2Ag3fOOIp1/GPEg4aQ0DDTFH2ykAAJkEBmJ5DQnCW+mAEjWGASK3iRZmLldu0Sa4P9FDM36dBCc5MFt+4hAfjrHz582AQmZ8YYpHuIll1ncgJRaqUJUCsNXMN89B8mrDYI+I8f7A9LM2LSYKWEO0OEiiD8XuL3sUmTJiZRAF4QCxe2IHXJdNP3Hnjrk0YWEiABEiABEkjrBGihSet3KIOMDxMlLCwkQAJ3lwASA3h52qwqwZqZD65ncCND4D+sNVaBoEFiDAiaXDlzyaXLl4y7BAQQnvJlz57duKChD1ilvTxsL9a02nNNAiRAAiRAAmmVAAVNWr0zHBcJkAAJJJEA0npGR8dImKZg1ohIyaLB/3iAgHg2xAbCtQwCB/sQ9I+3Svtf8zcW07qabhxiBpYZiBkIHx+TMIDvn0kiflYjARIgARK4zwQoaO7zDeDpSYAESOBuEICVRg0rJjtZQFSweHq4m9g/xLQheBVrK74NAsbPz8/Ez5ikJxozAzEEywzETEL+4ndjjOyDBEiABEiABO4FAQqae0GVfZIACZDAfSDgqQH9Ls4uEqIWGVhbkK0SsTCuLq6SM2dOI1gwLLiZ4T0zqGO9BRv14Gbm7EzLzH24dTwlCZAACZDAfyBAQfMf4LEpCZAACaQ1AhAmWGBxCQ+PiH2fjO2dMgmNFamZkc3MVdcsJEACJEACJJAeCfA/WHq8axwzCZAACdyBAOJqsCALGlzOYJWBexleUAvXMhcXZ5MZDdssJEACJEACJJCeCVDQpOe7x7GTAAmQwB0IIAsaFhYSIAESIAESyKgE+F8uo95ZXhcJkAAJkAAJkAAJkAAJZAICFDSZ4CbzEkmABEiABEiABEiABEggoxKgoMmod5bXRQIkQAIkQAIkQAIkQAKZgAAFTSa4ybxEEiABEiABEiABEiABEsioBChoMuqd5XWRAAmQAAmQAAmQAAmQQCYgQEGTCW4yL5EESIAESIAESIAESIAEMioBCpqMemd5XSRAAiRAAiRAAiRAAiSQCQhQ0GSCm8xLJAESIAESIAESIAESIIGMSoCCJqPeWV4XCZAACZAACZAACZAACWQCAhQ0meAm8xJJgARIgARIgARIgARIIKMSoKDJqHeW10UCJEACJEACJEACJEACmYAABU0muMm8RBIgARIgARIgARIgARLIqARck3thFfxKJ7eJ7D94NNlt2IAESIAESIAESIAESIAESIAE7kQg2YLmTh0mdDwlIiihfriPBEiABEiABEiABEiABEiABBwJ0OXMkQa3SYAESIAESIAESIAESIAE0hUBCpp0dbs4WBIgARIgARIgARIgARIgAUcCFDSONLhNAiRAAiRAAiRAAiRAAiSQrghQ0KSr28XBkgAJkAAJkAAJkAAJkAAJOBKgoHGkwW0SIAESIAESIAESIAESIIF0RYCCJl3dLg6WBEiABEiABEiABEiABEjAkQAFjSMNbpMACZAACZAACZAACZAACaQrAhQ06ep2cbAkQAIkQAIkQAIkQAIkQAKOBChoHGlwmwRIgARIgARIgARIgHRyB0EAACaYSURBVARIIF0RoKBJV7eLgyUBEiABEiABEiABEiABEnAkQEHjSIPbJEACJEACJEACJEACJEAC6YoABU26ul0cLAmQAAmQAAmQAAmQAAmQgCMBChpHGtwmARIgARIgARIgARIgARJIVwQoaNLV7eJgSYAESIAESIAESIAESIAEHAm4On7g9p0JREZGybbt2+wV8+fLL8WKFRVnZ2pDO5Q0vBETEyNbtm6VKpWriLd3ljQ8Ug6NBEiABEiABEiABEggKQQyvqDRCaw4OSWFRZLqBAUFylNPdZGaNWuqiHGSP//cZrZn/vCdZMnCCXKSIN7nSrh/y5YulkqVKt3nkfD0JEACJEACJEACJEAC/5VAmhQ0gZdPS+iVUxJx/YTEhF031+jkllVcsxcTr1zFxCdPUd2XRJFyF8WMI+xpUydLjhw5JDQ0VBo+0kjWr98gzZs3M1UuXLggR44clXz58kqZMmXMvkuXLklQULAUL17MtDly5IhUrlzZHNuzZ4+p5+npKbAA4XNIaIhUrVI1QSvC7t17JDIq0nE48kDVqnYr0cWLF+XY8eNS3s9PsmfPbuqdPHlKsmbNKv7+V+XGjQBzbldXF/v5IyIjxdXFVcqWLSMYh1UCg4Jk75694u7hruOpIi4utjY4fubMGbmg50IpVrSo5MqVy2xbP3Athw4dlOjoaClfvoJY50uoz5CQEDlw8KDV1Ky9s3hLuXJl5fLlyxIYGGTY4QDOi1KoUCGzBlcwy5cvn5QoUdzsi9/G7NQfTrHfB2eH67COcU0CJEACJEACJEACJJD+CKQZQRMRfF0u7f5V3M6vlGzOB8QnZ7iIr69IVg+lquIlPEzkcqBEHHGRSxFlJCJfE8lZuZV4Zs1936m7ubnbJ/o//TRP3nxroDRu3Fh27dol3bt3k9cGvCrLl/8qf+vn0V+MkhMnTkr3Hj1l547tZuyPtW4r69aukdy5c8njnZ4woia3ioPDKnqWL1si+fPnj3ONnTt3kSJFi6jY8THiaO/evXLk8EHx8PCQ0aPHyNSp08SvfHk5eOCAfPvtNKlbt46MGDlSzp09J5evXDH1wsLCZNHCBZIzZw5jcSpVupQ5x7Gjx2T48GHStm0b2bdvnzzxxFNG/KAdxjRnziwVRDfkKR3DtWvXxK+cn2zbtk2GDPlI63aKM84ezz6rAuqa2Zc3b16ZMX1aon1CcLVv39FYu9AAogxt5v88T5YtW25nh3O3btNOnnzyCXn3nbdl3br10rVbd6lXt64RNV27PiODBr0bp02cQcV+cHaii2BCXLiPBEiABEiABEiABNIbgTQgaGLkzOZ5kvX4t1Iw73mRSiVF8jwmkqWiiGsx5Wm5cYWKRJ0Wt+ADkufKXyInxkrAohlyqUgPKfLwM6p5UvdSXnv9TXF3c5Ndu3cZS0qjRo+Ye+/j4yNLlywyImDHzp3y/PMvGkGTlC9GYGCgdH3mGXn66S5GIPVQ0YMJOybv8cuECeOlVMmScv36dalc5QFz+MCBg/LDzFlqLVqn1pKcMnvOjzL040+MexUqwCqxZvUqYynp07efTJgwUQYPHmTaTp0y2Vg4Zs+eI7NmzTaCBhaWL0aPkpYtWkhERISUKl1WTp36R9Zp/4gdWvHrctO2d5++Zu34A1aTZs0elS6dO8sltbDUq/egwAqTWJ9oCwsPBAzKH3+skvE6vvjls2HD5YqKKxRYfl5+ubcRShCQsIwNGz7CiDwch/UsODhY3N097NYh7EdxcaGgsZHgTxIgARIgARIgARJI3wRSVwXEYxVy/bL4L/9ICrn8IVKzrEiR/iJeNbVWTl10won4F+NahrUKGxfd71tZlxYiBfaI75lF4rt7pJyfvUa8m38svrkLa73UKU90elwNSL7y8D8PyWefDZOVv/8uLZo3l+rVq8n8+b/IxG8mCVzDrMl3UkYFSwzcpoYMGWpcxuDGVv/B+klpaurs3rPbnO/Djz4yn8+qRQbWG4gIlFYtW9gn9m3atJYpU6aZ/fjx3uD3jcvZunXr5PPPR5r9cD+DleaNN9+Sw4cPm32wysBVbuzYr2TRosVSuEhh2bJlqzRu1Mgct34g4L5H9+6yePESFUWjpffLL4mXl5dxaUuoT0c3N6uP+OuNGzfKhg0b5YUXnjeHTpw8KXBfaxR7brAbO2a0vdmSJUsFC0qrli3lC7WOWYkA6HJmx8QNEiABEiABEiABEkjXBO6boLl+6V+JXNRXCuY/KVJDBUq+Vgoyq0gkXJSwuOmC4VlP0qN1G3EjEbrotodab0r2Esmu1oIdC+X6/GflasvxkrNIOT1+70v9+vVMDA3OFBwSLAsXLjKCpl37DtKkSRO1tDwt7j3dpePjt1pXEhvdLwsWyNChn8j77w9WN7AnZUruqYlVTXC/u7u72Q8rj2NB8gIUWCysEhISap/cY1/HDh3U/SynFNMYH1hGHnuslRFWR48dk5dfekn69OmtliNbv9WrVVOLS13p1/8VafTII7cVbVWrVpEePXrI5yM/lxdffEFGjfpCEurTGldia7iavf7Gm/L1uHFqgVovYeHh9lifqKhou1BzbN9JRSdc/GC5ebzTk7JixQrp2LGDfDNxghGOjnW5TQIkQAIkQAIkQAIkkD4JWGohVUcffOOqRPzcW3LlO6liprW6mDVUrXJFJOyoWmUu6HJVF/2c4IJjl7TucdU2Z1XQVBGp/qRkK3FNXBa/JDcu2wLG7/UFBav7FNyZYG347beVUrBgQbWERMq5c+flGXUZq1evnmzd+mecYURGRApiV7CgOG7j8/nzF6SWZk/r0L6dxtPkls1btmB3kkuN6tXFx9vbTPQRN3NVEwD8tnKlPVnADzNnGvEREBAg06dPlzq1a9v7hvCoUaO6ibeBVQdjO3P2rLRu3VqaNm0iV69cNdeGBrCKbN68xQiD776bbsSPvaPYjdOnT8sHH3wo2bJlk9YqjtAGsUOJ9Rm/ffzPYNyqVSupVQsWPFsppMyLajICXEtUVJTGLO2WOnXrmfuCGhZviDcUV1dXUw9Ws/AwjdFiIQESIAESIAESIAESSPcE7ouF5uL8QVI8+zGRCuqm5KOWlrCTSD+lMHU40ZZVBmuX2CVG17DQwHUKVhrdjtE1Mn3Bncojm4hfU8kWsFTO/PKmZH3+BzXs3NtLQ0wICuI+HmrQQPr362smzO+8PVBatmpthEVdtWJYBdm1FixcaBZrX5myftamWbdr21bmzp0rFStWFg/NNIbMYUkt6B+Te7iL9XzueQlTawz6GPfVl/YukDXtoYcaGnEB97hevV60H6tXv4HZxvUgwB8JBl5+qZdaVV6SkSNGSvESJexZzMaN+1pTHldUgdHS3j7+e3gKFCigFqEwe3wPgvWrqWUnsT6t7GNWh/g6WJYl7CtQIL+8+cYb1mH7evq3U+Xl3n1lzJixZt/HHw+1p8+2eEPktW3XVlq0aG4SGcC9roReT4MGtnto74wbJEACJEACJEACJEAC6Y6Ak75oEEXDVWJMkDWsDFjC9Am2v8ZLNG7cJM5F/XPqRJzPyf1watPPUmzn2yJ1dDJfuJZqmAgRdzUUmRTCunaCiIEYgcDBNtYoEDUQNLHCJiZ2G4ImXJcozYZ2/oDIlu1youRAKfHozck6WqdmQfB7uLpEwTqRkgILQrZs2RN0o0pqf/7+/iZlsyUUELiPOJd2OrHH2JC8ICkF8TfXr18z7mhWX0lpZ9Wx4neslM3Y/1/7tPp2XCM5grcKF1hh7lRgzXFMP32n+jxOAiRAAiRAAiRAAiSQdgncefZ3F8ceFhwg3pvGiJTx1cD+gmqZUdcxE/ivwiVGFw9dEAcSrSImVAWMif1wEDTRus9TBwRHuXAVQmG6RKjAiYCo0WNZcogUzSW5//5Ggmq1F+/see7i6JPeFYLfsaS0xH+fS0r6wTtyEiqIs7FibRI6Hn8fhMh/GY+jkLH6/q99Wv04rpMjHilmHMlxmwRIgARIgARIgATSN4FUFTRnty+VEs4a95KtpFpUNK4hLEjpqYjBO0HgIhYWI+f3X5Nseb3FK6+KnjhhDipY3J0k7EKgXDkfKAVLZLcZbSwLTZgKm0jtJ2su8fU8LEc3/09Kt+ydvu/OXRz9K/37m3fO3MUu2RUJkAAJkAAJkAAJkAAJ3HcCsHWkUokR5/1LVMyoa5i+kV5Cr6tgUUETHqgWlmD1MguRbYsPyie9/pAfPtskEZo4QNz0eMwN2+IaJFGB12TWqM2mzuYF+7WfEFtb04/2Eap1UfQcnoeWaTu4pbGAQPnyfszsxa8CCZAACZAACZAACZBAhiOQaoIm4PJZ8b74t7qVuakIUdNLmAqQCLXShOsSHSIxl6/LX6tOi49ztPx74Kqc/EstOc4qWIxYUWHjHCqnd52Vf/Zekawu0bJj7WmJuqiiSNuaPiJ0jT7Rn57D9/ohuXjqUIa7YbwgEiABEiABEiABEiABEiCBmwRSTdBcP3dM3KPUGoP0VRA0EZq6OFwXrHWJDgpV57NoKVLAXbJ6OktoAFzSYpdQiJUQNeSEqTuZs6njrPE0kUG6P7a9ra/YfvUcrs4REnCagubmreYWCZAACZAACZAACZAACWQ8AqkmaEIvnJAYnC1aY10Q0B+uKZcjsNYlKFxcNIa+UAlvuXQlQnzzekqRkrojANYXiBStExgqeYt4iG8eT7l4OUKKlPIWDx8VR8F63Kpj9afve4nRQ9E3zme8O8YrIgESIAESIAESIAESIAESsBNItaQAkYH+EqVWlWhNmeusi0SpukGGMicN9kdKZs0N8HDTPOKZzV2KlfaW7Ll0aAEqeqwkZ+HRkjWbizz6ZBE5djBQ6tTRlMhI1xyqi8l0pn1EYYnW0Jko3YzRmBt9Oec9KufPn5cTJ0/G6d1XUyFXqlQpzr47fUCK5muaHrtUqVJ3qsrjaZQA0mDv1ResVtf37LAkjwBeTJszZy7znqHktWRtEiABEiABEiABErARSDVBg/fc2ASNJgdA+mWkZrYWxO4HR4uPr6s0bpdfs5Wp0AlUMQM1Y1I36ybaqIApUSaLlKigGdAC1DITBGGEY1rPmGS0nRFN6o6mm6aNru5F+WXBQpk8eYqUK1fOdH/+/DnJru+OWbBg/h1PF6GWpOXLf5W/d+2SVatWSbeuXSlo7kgt7VXYtHmzbNiwUXbs2Kkv8/SSb6dNTXuDTOMj+mzYcGnSuLE891zPND5SDo8ESIAESIAESCCtEkg1QSNZshvvskhVGq5ItQy94qJCJFIXxNVgCVbREqYxNS5qvTGpnLUOhIkpehzbAdo2WhvDGmMEke6DqMGCPrXvaD1HuFp0xCeX7rg3xf/qVenYsYO8P/g9c4LFi5fItGnfxjlZUFCw4Al0qVIl7e9ywUsdn+35nGTNmlWaNmkij2sfFStWNO1Onjxl9vv7X5UbNwKkcuXKcV6uiRdS7t2717yws0SJ4qZN/B+7d+9RBABxszxQtao4O9u8Cy9evCinTv2jlqSK5l05EFd7tE8/FWZZsmSRc+fO64sv1aWvSBG9FWGyb/9+KVe2nL60MotcuHBBjhw5qtnS8kqZMmXsJ8A1hsHtL7YUK1pMrzen+ZQQA7x49MDBg+Z4Fq8s2lfpOC+6PHr0qJw/f8Hsz5cvn2DMp8+csbo36xzZc0j+/PkEdcHpdmXPnj0SoS+LddXsemXLlhFPT7zM6GZxHI+1101f0Il+wRztQzSOq2qVqoYD6owb97Us/3WFdH7qSXn9tQHywANVrabyzz//yGW1vFklZ46cUrx4McH99fX1sX8XDhw4KAULFjDvBXK8DrwkFNdfuHBhOXz4sFSr9oDVlZw4cVLcPdylUMGC9n3YSO458d6eGzduyNFjx+z9eGfxVoFe1v4ZY8JYYHX08NDshFrAonTp0nLw4CFzLdh2LPG/Xzh2+fJl+efff0213LlySdGiRe1NcE9czEt17bu4QQIkQAIkQAIkQALJIpBqgsY7XwkJ0ZdfRur7YmI0xsXJTSfdbjpJguuZuptJlAoW41+GdewmBEzsR3il2RfUhZgxLma63wgaraCTT525an6AaAnVd9q4ZsunB+9NwYS19G3cxNatWy9du3WXmjVryvbt2+WdtwdKnz69VZDsk6DAIJ1Yl5VPPv3MTFaHffapSak8YuRIOXf2nJkMYwIJQbFo4QLz/pgzZ89K69ZtJW/ePDrBv2TaTZ40KY7gwZV27txFihQtohNvHwkNDTUC6Mjhg2ZCOmbMWJkyZao5946dO2Xu3DlSt04dmTH9OyOCxn89Tn7++We5pBPQIR99KEM//kRO/3tahdpU+emnefLmWwOlsT5N36WWpe7du8lrA141cJ97/gXJnj27OefBAwf0uj6Rjh3aS2IMMLFv376j1K5dS/z9r+k1n5WlS5dIiRLFZeDAd2Tl779LVRVhsF7NnjVTgoOD5dvpM+T06dNyVblX0WMP1q8nTZs2le49esrOHdvNOBL78dRTXaRUaZtL37Gjx2T48GHStm0be/VLly7JyJGjzAQfgrF+/fqS1ddXRo8eJY93esKIGkzEDx85IsuXLTGCBON56aVeMll55siRXQa/9566QdY2fU6YMFFWr1kjhQoVljNnTkvDhxtq/8MF97dxo0byxBOdlOFuadO2nbKfpu5WBeNcx7Zt22XCxG/kuxnfSrv2HWTFr8tN2u1ojT/r3KWLfPbpp7cImuSeE/cRFqbXX3tD/MqXl6tXrxjXr/k/z9OHAeFmPOANIQtRuuCXnyV37twClvjuRkVH6f04I7X0+z1x4ngjSBP6ftWrW1eWLVsuY8Z+aYT9vypscuXKrd/rX/S766rPLZzVCGsT2/Ybwg0SIAESIAESIAESSAaBVJtJZCtYSg0w3pqsLFqiYD1RK4CJgYExIULFiX40Vho3VTew2pj9DsdwHPtwzEXrwOKAfWiLfbF9RkVEaebmaAmJdBXfQjZ3MK111wusFXny5EmwX0w8X365t5msYoK4ccM6GT5ipBw7flwOHjooEBN4Er5MJ/GwhLw64HV7P856bWtWr5I/fv9NqlSpLJioonzyyafypE6EMbn9c+tmnSifkZ/n/2xv57gxYcJ4wXnnzJ5p3w1rAMTMH3/8btzivvlmggqsforcSUaMGGasB9N1km6V+b8skLVr18lXX401oslH44OWLllkrmnatCny/fc/WFUlQK1J1jnr1qtr9t+OASqULFlC/jfvJ3OdjZs0lsVLlhgBV6FiBVm96ndznkGD3pX/qcBq1uxR+XHOLHlZBUSz5s3Mdv/+/cx5wlS0QfBgEn67MnXKZFm8aKEMVovarFmz41SFxQD9jxn9hREr2J48+RsJDAyUrs88I7+tWG7EXxW12ECkwdqA2CdM+H+a+6M826OH9Oz5nLFmoOPg4BB5Ta02uAcvvvBCnHPhA8b6+htv3rI//g5fFVUQPwsXLTKHtm//y7Bu2PDh+FVTdM6rV64anhjnB+8Ptvc558cfxc3NVdauWWW+b4gNwnfHKvUfrG9Yrl+/Vnbt3iWrV6+RxL5fVps2rR8z93vzpo1y8sQJ+euvHeaQq6tLHOucVZ9rEiABEiABEiABEkgqgVSz0GTLW1jC8leWkIA/xTOrm7i6qxpxVmFiXMv03TRa9v7pL3lzuUneitlt4zcWGJhmIGJiF42pCTkZKPsPBkgFv+zilUUvAZNZpG8Oi9BJcYyEaPxNcPayUqH4vRM0cNuCu1BCBckCAoOCpJE+jUeBaMEkdO+evXLj+g1jAej81FPmGNyVKld5wDwFx45WLVvYrS5t2rTWieQ0U2/Llq3Sr28fs+3m5qYWjvayc+ff8tSTT5p9d/qxe89uwUS0QAGNUdLS7NFmKrr6CCw/cF+aohP4Rx9tbqw7sAxB3Py+coVxb0P96tWryfz5v8jEbyYJ3NowobcKrtXLU7PSOZTbMcAT/uPHT8grrwwwImDbtm1GAMAqVbNGdXOOI2oN2bJ5i9SqVcuh11s3cW6/8jaXPbhGwcpUokTxWyq+N/h943K2bt06+fzzkbccT2hH/vz5jeVsyJChRoyuX7/BMAwM0PTjWiAC3N3d5fHHO6qlZoq6Y+2VBg0e1HsfKHClS6yMHz9B3dkq2dkmVg/7n+jUSXr36StvvfmGLFi4UC0n3Y1lI36blJzzolqm4NIXv0DIYnl1wGvm0KJFi+MkPGjRvLnZ7+PtLS1atDAui1fUwpPY9wuVV6nouab3G65xsCBaLnqwztDlzODkDxIgARIgARIggRQSSDULDUSJT/W2+oRZxYYG80eoW9hNIaKmF53YRDi7y8yF52X+1ONyYusVCT8XqskB1I1Ml+hLYXJu1zVZOfukTPpBYxRCnMXDS4VQqAqjSBUzKmoi1UoTon0HXY8Uj6qPqWCyCaUUskm0GSbzmJj5+fklWMeK0YjSjGtWCQ8LN7EPudRtB+5MVnFRtxuUGONPp5ejFgerhISE2mM23N3d4sSp4Cm/Fddg1b/d2tPDU1//A5OWrUTFxtl46IQcZd++/WZdqFAhdZUqZITPzr/1RaixBa5PiGPp+szTMnbMF9ZuYx3Bh5w5c9j3YeN2DHA8l7pwPf10F3nxxRektrq9/TT3J43tOSWtHmujx3JKv359ZaC66d2poJ9/Tp2Q/fv3GhdAy6IVv13HDh3k2Wd7SDd1lRsfa/WKXyf+518WLJC333lXHlALxaB33zFudKhjxQfBZcoqEDawSqHA8mHVsY5baySC+P6HmfLhB+9bu267hlse7v3GjZvU7WuBdFLxlFBJyTmPHzsuxYoVu6U7uA8+9FADY52ChQpWqE8//dheD4LXKiFqjcK9vtP3C7FLuN+4r3Bh27hxo+nihReelzq161jdcU0CJEACJEACJEACySaQioJGpHjdNnLVrZAE+ofrpEZdz8JUrIRCjISoaAmVahV8pW2b4nIx1EW+X3hOPh9/VMZ8dVjGjjssI74+IpN+/Ff2no6UhxoVluYP5xFnTKz0hZvoI1r7CgrR5VqEXI7KJsUeSprlIrnEECQOdyvExiCIHgHlWBB0jrgCBNnD4gE3punTpwuSAGzatEk2b9linnLDArFhwwYT24LMb3NmzzGxJHjajfLDzJnG+hEQEGDa16ld2+xvogkE4PaDcyFwf8aM76R+vXrmWFJ+wMKCuA7EZ+Aa0BcC+xEXAVe4Afo0fsqUSWaMCPSGi9Zbb71trDGRem045zM6Ia2n59y69U9zSkzg16rFA9dqCRhrLLdjgDreer01a9YwS2VNULALVh9NtACBgqxvlTRRwpo1a63ubrvGBBuuZ0iG4KaT/4RK1apVpIayr1u3jmHvOClPqD72ITAfMSId2rcznHAPURCsj2ueq3FFuId//fWXIDYH54AbGlwKi5coYerG//GDiplhwz7VuJu4AhD1zHXotUCsQtjiPiGZA0TFoPcGm9iV+EH4aJeScyJu6HeNVaql98CcF1ZOLbjXDR9+2Lg0IlkDBNVmjbU5dOiwOY4f3+r3Gm2OHTsmS9RVsGaNGsaCl9j3C20KFChg7nWtWjVVRBW1C2h/f3/znUYdFhIgARIgARIgARJICYGbj5hT0jqZbbx8s0uhVr3l2rzB4uoVIU7qRuajfbjE6GRKxQDiakrn85TS3Ypq4HuEHP83WPyv26wKPupaVrSApxQr6KHWHLXoXLuh9bVduL5zRt9DE6xxM4FqmfG/FC75WvaXrLkLJHN0Sav+9fjxJsAZtcv5VbilUf/+rwriU6Z/O1Ve7t1XPtbYF0zSIRAs9x64PHXr/qwRLpgEI7jfKsik9dBDDY3LGlx7evV60RxCPEm/fq+Yc0L8wLLRXONJklIQJwO3t4kaW9PrpZfNecuX95NpU6cYC8vzGtSPmJQHH3xQ/v57l4lpQIYvBLK/2KuXiaNAUoOWrVoLzm3FyWCSO2jQYPnss0/iDAMJ61ASY4BEALBwlSxVxtRDPM2I4cMFMSoQHTVq2NzM4rub4TocCz7DWlamrM1SBquCYyyIY9169RuYj7gXQ4Z8lKB1K1730q5tW42dmatZ6CqLh1ohiqmIsYp1bW+//Y6xZk2ePMm4kD3SqIm8oiwh6FAwRmcr9bh+bq2xJJbLlqkQW8fxOqz9w5QJsuh10AQLn4/6Qu9RX+tQnHWbtu2Tfc7OXZ4x37EmTeN+hxBXhfghZKHD9xAF4mySfqetAquexRyucBApKAl9v6w2EHJYUJAoALFBKF9+NU4ebdrEJD0wO/iDBEiABEiABEiABJJJwEmfMKOYJ8144o4ntFjC1EXKX1/42Lhxkzhdwr3nv5VQOfhlTwk5skHyFPYQX42n8fZ0Flc3NRYhXbMr1qqz4E7moWsE/6PAnUczmEkwXMx0DXcuTc8cqWImJCxaAvQlnJfPhImzxulUemu29qMv3rwHZeyXX5lsWAlNnH/Uye+a1WuNoLFOjdS4WbNmtT7a12COoHMEflsFsRLIgtWuXVvzlB6B+PEL3HXgaoZg6pQUnBfWn4TGdKf+YB2C9QApf5NTEmOQWB9IFQwXLi+vuHE5idW/1/shNrLpO4YSYp7ca0vqWPE9w32CoIEFrZEKpX17d8f5viS1r4TqQcggux4sMFZBIohly5YZ8Y19sBAFaTyQ4/2uUKGS1lmqFqtc5h7hPjmW5H6/YMF00UQYLCRAAiRAAiRAAiSQUgKqGFK7eEqpHsNk/+dd5eq5UyYVc0yUm7osxah+iVHji1pqnFWwqKAyWc8ch6eTcfOyTH15ZowmDIiIjJFgjZsJ1iQAVy+ESZR7Hinbc8Q9EzMYClyNgjUQPaECC4yfWj4cS2LCAU/uHcWMYxtMEuNPFK3jSKP7XwrOm9iY7tQvBEZKREZyz+c4gb7TmFLjOKw6iZXkXlti/cTfj+9ZiGZv+2bSZON6+KZaQhL7vsRvm5TPsKrEH3tezdpXscJNqyMEXGL3IiGxjfMm9/tFMZOUu8U6JEACJEACJEACtyNwHyw0tuEEn/1bjkzoL3L9pOTMq0/jvV1V1DiLu6uTZqOKddOJ62FkxE+0ipkoXcJVzIQiPXMQ3MwiJNIjj5R5+UvxKWlzLbrdRafVY0h9i+B6yzUtrY6T40o9AnhfDaweVlaw1DtzwmdC/FRVdZOMHzOVcG3uJQESIAESIAESIIF7T+C+CRpcWvjlw3Js1vsStH+DZMuhrmfZXNWdykXfgeGkbigqbDT2IMZB1Bgxo0IGlplwJAHQjGnXr0aKZ4nqUrzbUMlS8OYb1e89Op6BBEiABEiABEiABEiABEjgfhO4Dy5nNy/ZPXdZKd9/mpz741s5t/J7CfjnvPj4uKi1RkWNh76fQkWNU2xANZ5SR6mQMamZgzUBgKZyjvHMKXnbPC2FHn1RnNxz3uyYWyRAAiRAAiRAAiRAAiRAApmCwH0VNIaws48UePQVyV2zjVzatkj8d6yUG6cPaSxNiAZhw/XMdh+QEyBK42ZinD3EvVB5yduwseSu1VY88ty7l2dmim8AL5IESIAESIAESIAESIAE0jGB++pyliC3mGAJOntQQs4elnD/8xIZdN3EELh5ZxW37PklS4HS4q2CRlxuZgdLsB/uJAESIAESIAESIAESIAESyPAEUsdCg+xk8V/ykRhapywqWKqbJbEq3E8CJEACJEACJEACJEACJEACIBDr0HWPYSRVzNzjYbB7EiABEiABEiABEiABEiCBjEUgdQRNxmLGqyEBEiABEiABEiABEiABEkgjBCho0siN4DBIgARIgARIgARIgARIgASST4CCJvnM2IIESIAESIAESIAESIAESCCNEKCgSSM3gsMgARIgARIgARIgARIgARJIPgEKmuQzYwsSIAESIAESIAESIAESIIE0QoCCJo3cCA6DBEiABEiABEiABEiABEgg+QQoaJLPjC1IgARIgARIgARIgARIgATSCAEKmjRyIzgMEiABEiABEiABEiABEiCB5BOgoEk+M7YgARIgARIgARIgARIgARJIIwQoaNLIjeAwSIAESIAESIAESIAESIAEkk+Agib5zNiCBEiABEiABEiABEiABEggjRCgoEkjN4LDIAESIAESIAESIAESIAESSD6BRAWNk1PyO2MLEiABEiABEiABEiABEiABEkhNAokKmtQcBM9FAiRAAiRAAiRAAiRAAiRAAikhkICgsUwzTmJtpaRjtiEBEiABEiABEiABEiABEiCBe03gFkFjczVTMaNqJioqSipWrHivx8D+SYAESIAESIAESIAESIAESCBFBG4RNKJ2GSdVM1i8vLzEz88vRR2zEQmQAAmQAAmQAAmQAAmQAAncawJ2QWOJGFhmsO3s7CLuHh5Sp3ZteeSRhvd6HOyfBEiABEiABEiABEiABEiABJJNwClGC1phhQVuZlgiI6MkIiJCQkJC5MaNG7oESFBwMGqaxdYKLVlIgARIgARIgARIgARIgARI4P4QcI1/WicnZ7XOxIiLC4QLDnuJi6ureHt7S7gKnFj9E78ZP5MACZAACZAACZAACZAACZBAqhOII2hsrmYYg7MKF2ssTipuXMTD3S3WioP9toM361h1uSYBEiABEiABEiABEiABEiCB1CNgFzQQMzbriy0hgIuLs8l0hv3R0RA4LrHH7Uon9UbJM5EACZAACZAACZAACZAACZBAAgTsggbHIF5s1heIGQgXm7iBC5rNGnNzjfosJEACJEACJEACJEACJEACJHA/CdiTAjgOwoqTcVxb2471uE0CJEACJEACJEACJEACJEAC95NAgoIGA4ovYOJ/vp+D5rlJgARIgARIgARIgARIgARIAAQSFTSOeChmHGlwmwRIgARIgARIgARIgARIIK0QiBNDk9igbLE1iR3lfhIgARIgARIgARIgARIgARK4PwSc789peVYSIAESIAESIAESIAESIAES+O8EkmShiX+a/QePxt/FzyRAAiRAAiRAAiRAAiRAAiSQ6gRSJGgwygp+pVN9sDwhCZAACZAACZAACZAACZAACTgSoMuZIw1ukwAJkAAJkAAJkAAJkAAJpCsCFDTp6nZxsCRAAiRAAiRAAiRAAiRAAo4EKGgcaXCbBEiABEiABEiABEiABEggXRGgoElXt4uDJQESIAESIAESIAESIAEScCRAQeNIg9skQAIkQAIkQAIkQAIkQALpisD/Ab+k9+zZGV+nAAAAAElFTkSuQmCC)"
      ],
      "metadata": {
        "id": "-PlWrXNQ-BKz"
      }
    }
  ]
}