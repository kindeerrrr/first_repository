{
  "nbformat": 4,
  "nbformat_minor": 0,
  "metadata": {
    "colab": {
      "provenance": [],
      "include_colab_link": true
    },
    "kernelspec": {
      "name": "python3",
      "display_name": "Python 3"
    },
    "language_info": {
      "name": "python"
    }
  },
  "cells": [
    {
      "cell_type": "markdown",
      "metadata": {
        "id": "view-in-github",
        "colab_type": "text"
      },
      "source": [
        "<a href=\"https://colab.research.google.com/github/kindeerrrr/first_repository/blob/main/%D0%98%D1%82%D0%BE%D0%B3_%D0%9B%D0%98%D0%9D%D0%90%D0%9B.ipynb\" target=\"_parent\"><img src=\"https://colab.research.google.com/assets/colab-badge.svg\" alt=\"Open In Colab\"/></a>"
      ]
    },
    {
      "cell_type": "markdown",
      "source": [
        "# Задание 1"
      ],
      "metadata": {
        "id": "DQQFfNTLJ20S"
      }
    },
    {
      "cell_type": "code",
      "execution_count": 1,
      "metadata": {
        "id": "XqAzbM6WJyE2"
      },
      "outputs": [],
      "source": [
        "#ваш код\n",
        "def multiplication_order(A, B, C):\n",
        "    # Получаем размерности матриц\n",
        "    rows_a = len(A)        # количество строк матрицы A\n",
        "    cols_a = len(A[0])     # количество столбцов матрицы A\n",
        "    rows_b = len(B)        # количество строк матрицы B\n",
        "    cols_b = len(B[0])     # количество столбцов матрицы B\n",
        "    rows_c = len(C)        # количество строк матрицы C\n",
        "    cols_c = len(C[0])     # количество столбцов матрицы C\n",
        "\n",
        "    # Вычисляем количество умножений для порядка (AxB)xC\n",
        "    mult_ab = rows_a * cols_a * cols_b     # умножения для A×B\n",
        "    mult_abc = rows_a * cols_b * cols_c     # умножения для (AB)×C\n",
        "    total_left = mult_ab + mult_abc         # общее количество умножений\n",
        "\n",
        "    # Вычисляем количество умножений для порядка Ax(BxC)\n",
        "    mult_bc = rows_b * cols_b * cols_c      # умножения для B×C\n",
        "    mult_abc2 = rows_a * cols_a * cols_c    # умножения для A×(BC)\n",
        "    total_right = mult_bc + mult_abc2       # общее количество умножений\n",
        "\n",
        "    # Возвращаем наиболее эффективный порядок умножения\n",
        "    return \"(AxB)xC\" if total_left <= total_right else \"Ax(BxC)\""
      ]
    },
    {
      "cell_type": "code",
      "source": [
        "A = [[1,2]]\n",
        "B = [[2],[1]]\n",
        "C = [[5]]\n",
        "print(multiplication_order(A, B, C))"
      ],
      "metadata": {
        "colab": {
          "base_uri": "https://localhost:8080/"
        },
        "id": "hMSnwXN1F-qh",
        "outputId": "0d5f5ce3-de09-469a-c74e-ef8be068b722"
      },
      "execution_count": 2,
      "outputs": [
        {
          "output_type": "stream",
          "name": "stdout",
          "text": [
            "(AxB)xC\n"
          ]
        }
      ]
    },
    {
      "cell_type": "markdown",
      "source": [
        "# Задание 2\n"
      ],
      "metadata": {
        "id": "vQvUEt_KKShX"
      }
    },
    {
      "cell_type": "code",
      "source": [
        "#ваш код\n",
        "def best_worst(X, Y):\n",
        "    # Импортируем numpy для работы с массивами\n",
        "    import numpy as np\n",
        "\n",
        "    # Получаем количество признаков\n",
        "    n_features = X.shape[1]\n",
        "\n",
        "    # Создаем массив для хранения корреляций\n",
        "    correlations = np.zeros(n_features)\n",
        "\n",
        "    # Вычисляем корреляцию для каждого признака с ценой\n",
        "    for i in range(n_features):\n",
        "        # Используем np.corrcoef для расчета корреляции\n",
        "        corr_matrix = np.corrcoef(X[:, i], Y)\n",
        "        correlations[i] = corr_matrix[0, 1]\n",
        "\n",
        "    # Находим индексы максимальной и минимальной корреляции по модулю\n",
        "    max_corr_idx = np.argmax(np.abs(correlations))\n",
        "    min_corr_idx = np.argmin(np.abs(correlations))\n",
        "\n",
        "    return (max_corr_idx, min_corr_idx)\n",
        "\n",
        "import numpy as np\n",
        "\n",
        "# Создаем матрицу признаков X\n",
        "X = np.array([\n",
        "    [3, 51, 3, 0, 1, 0],\n",
        "    [1, 30, 1, 0, 1, 0],\n",
        "    [2, 45, 2, 0, 1, 0],\n",
        "    [3, 55, 1, 0, 1, 0],\n",
        "    [1, 45, 3, 1, 0, 0],\n",
        "    [3, 100, 3, 1, 0, 0],\n",
        "    [2, 71, 2, 1, 0, 0],\n",
        "    [1, 31, 2, 0, 0, 1],\n",
        "    [3, 53, 5, 0, 0, 1],\n",
        "    [1, 33, 3, 0, 0, 1],\n",
        "    [2, 43, 5, 0, 0, 1]\n",
        "])\n",
        "\n",
        "# Создаем вектор цен Y\n",
        "Y = np.array([2200, 1600, 1900, 2000, 4500, 7000, 5000, 1700, 2100, 1500, 2000])\n",
        "\n",
        "# Вызываем функцию\n",
        "result = best_worst(X, Y)\n",
        "print(f\"Индексы наиболее и наименее коррелирующих признаков: {result}\")"
      ],
      "metadata": {
        "id": "TMJq9ob2KYBY",
        "colab": {
          "base_uri": "https://localhost:8080/"
        },
        "outputId": "2045f67a-15d2-46b0-be91-5796b952ab2b"
      },
      "execution_count": 3,
      "outputs": [
        {
          "output_type": "stream",
          "name": "stdout",
          "text": [
            "Индексы наиболее и наименее коррелирующих признаков: (3, 2)\n"
          ]
        }
      ]
    },
    {
      "cell_type": "markdown",
      "source": [
        "#Задание 3\n"
      ],
      "metadata": {
        "id": "hindpJMCKhB8"
      }
    },
    {
      "cell_type": "code",
      "source": [
        "#ваш код\n",
        "def corr_rank(X):\n",
        "    # Создаем корреляционную матрицу\n",
        "    correlation_matrix = np.corrcoef(X.T)\n",
        "\n",
        "    # Вычисляем ранг корреляционной матрицы\n",
        "    rank = np.linalg.matrix_rank(correlation_matrix)\n",
        "\n",
        "    return rank\n",
        "\n",
        "# Пример использования с данными о недвижимости\n",
        "X = np.array([\n",
        "    [3, 51, 3, 0, 1, 0],\n",
        "    [1, 30, 1, 0, 1, 0],\n",
        "    [2, 45, 2, 0, 1, 0],\n",
        "    [3, 55, 1, 0, 1, 0],\n",
        "    [1, 45, 3, 1, 0, 0],\n",
        "    [3, 100, 3, 1, 0, 0],\n",
        "    [2, 71, 2, 1, 0, 0],\n",
        "    [1, 31, 2, 0, 0, 1],\n",
        "    [3, 53, 5, 0, 0, 1],\n",
        "    [1, 33, 3, 0, 0, 1],\n",
        "    [2, 43, 5, 0, 0, 1]\n",
        "])\n",
        "\n",
        "rank = corr_rank(X)\n",
        "print(f\"Ранг корреляционной матрицы: {rank}\")"
      ],
      "metadata": {
        "id": "-YLajcsEKkuQ",
        "colab": {
          "base_uri": "https://localhost:8080/"
        },
        "outputId": "497269fe-1303-43a9-e91b-9503a5ee2042"
      },
      "execution_count": 4,
      "outputs": [
        {
          "output_type": "stream",
          "name": "stdout",
          "text": [
            "Ранг корреляционной матрицы: 5\n"
          ]
        }
      ]
    },
    {
      "cell_type": "markdown",
      "source": [
        "# Задание 4"
      ],
      "metadata": {
        "id": "tKweU9DCKk-f"
      }
    },
    {
      "cell_type": "code",
      "source": [
        "import numpy as np\n",
        "\n",
        "def inverse_matrix(A):\n",
        "    # Вычисляем определитель матрицы\n",
        "    det = np.linalg.det(A)\n",
        "\n",
        "    # Проверяем условие обратимости матрицы\n",
        "    if abs(det) < 0.001:\n",
        "        return None\n",
        "\n",
        "    # Вычисляем обратную матрицу\n",
        "    inverse = np.linalg.inv(A)\n",
        "    return inverse\n",
        "\n",
        "A = np.array([[1, 2], [2, 1]])\n",
        "\n",
        "\n",
        "\n",
        "result = inverse_matrix(A)\n",
        "print(\"Обратная матрица:\")\n",
        "print(result)\n",
        "\n",
        "A = np.array([\n",
        "    [3, 51, 3, 0, 1, 0],\n",
        "    [1, 30, 1, 0, 1, 0],\n",
        "    [2, 45, 2, 0, 1, 0],\n",
        "    [3, 55, 1, 0, 1, 0],\n",
        "    [1, 45, 3, 1, 0, 0],\n",
        "    [3, 100, 3, 1, 0, 0],\n",
        "    ])\n",
        "\n",
        "result = inverse_matrix(A)\n",
        "print(\"Обратная матрица:\")\n",
        "print(result)"
      ],
      "metadata": {
        "id": "pi2fjbkjKmzi",
        "colab": {
          "base_uri": "https://localhost:8080/"
        },
        "outputId": "216f32cf-27e4-4a27-dfe9-4abf7b0b1d6c"
      },
      "execution_count": 5,
      "outputs": [
        {
          "output_type": "stream",
          "name": "stdout",
          "text": [
            "Обратная матрица:\n",
            "[[-0.33333333  0.66666667]\n",
            " [ 0.66666667 -0.33333333]]\n",
            "Обратная матрица:\n",
            "None\n"
          ]
        }
      ]
    },
    {
      "cell_type": "markdown",
      "source": [
        "# Задание 5"
      ],
      "metadata": {
        "id": "pnIqMUVsKnTq"
      }
    },
    {
      "cell_type": "code",
      "source": [
        "def fit_model(X, y):\n",
        "    # Используем sklearn для надежного расчета коэффициентов\n",
        "    from sklearn.linear_model import LinearRegression\n",
        "\n",
        "    # Создаем и обучаем модель\n",
        "    model = LinearRegression(fit_intercept=True)\n",
        "    model.fit(X, y)\n",
        "\n",
        "    # Возвращаем коэффициенты\n",
        "    return model.coef_\n",
        "\n",
        "# Тестовые данные\n",
        "X = np.array([\n",
        "    [3, 51, 3, 0, 1, 0],\n",
        "    [1, 30, 1, 0, 1, 0],\n",
        "    [2, 45, 2, 0, 1, 0],\n",
        "    [3, 55, 1, 0, 1, 0],\n",
        "    [1, 45, 3, 1, 0, 0],\n",
        "    [3, 100, 3, 1, 0, 0],\n",
        "    [2, 71, 2, 1, 0, 0],\n",
        "    [1, 31, 2, 0, 0, 1],\n",
        "    [3, 53, 5, 0, 0, 1],\n",
        "    [1, 33, 3, 0, 0, 1],\n",
        "    [2, 43, 5, 0, 0, 1]\n",
        "])\n",
        "\n",
        "Y = np.array([2200, 1600, 1900, 2000, 4500, 7000, 5000, 1700, 2100, 1500, 2000])\n",
        "\n",
        "result = fit_model(X, Y)\n",
        "print(\"Коэффициенты модели:\", result)"
      ],
      "metadata": {
        "id": "g34wFIBuKpmL",
        "colab": {
          "base_uri": "https://localhost:8080/"
        },
        "outputId": "3aa929fe-23d0-4393-ab36-87cb1ee81240"
      },
      "execution_count": 6,
      "outputs": [
        {
          "output_type": "stream",
          "name": "stdout",
          "text": [
            "Коэффициенты модели: [-574.12295766   65.33255763  141.80223878 1145.11531515 -408.72264317\n",
            " -736.39267198]\n"
          ]
        }
      ]
    }
  ]
}