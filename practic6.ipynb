{
  "nbformat": 4,
  "nbformat_minor": 0,
  "metadata": {
    "colab": {
      "provenance": [],
      "authorship_tag": "ABX9TyO1xcyFXxMmU7dKyPMX5no+",
      "include_colab_link": true
    },
    "kernelspec": {
      "name": "python3",
      "display_name": "Python 3"
    },
    "language_info": {
      "name": "python"
    }
  },
  "cells": [
    {
      "cell_type": "markdown",
      "metadata": {
        "id": "view-in-github",
        "colab_type": "text"
      },
      "source": [
        "<a href=\"https://colab.research.google.com/github/kindeerrrr/first_repository/blob/main/practic6.ipynb\" target=\"_parent\"><img src=\"https://colab.research.google.com/assets/colab-badge.svg\" alt=\"Open In Colab\"/></a>"
      ]
    },
    {
      "cell_type": "markdown",
      "source": [
        "Объявите функцию read_file_last, которая на вход получает:\n",
        "1) имя txt файла в виде строки\n",
        "2) целое положительное число (n)\n",
        "\n",
        "В результате чего выводит список последних n строк.\n",
        "\n",
        "Допустим, есть файл tree.txt:\n",
        "\n",
        "В лесу родилась ёлочка,\n",
        "В лесу она росла.\n",
        "Зимой и летом стройная,\n",
        "Зелёная была.\n",
        "\n",
        "и n = 2\n",
        "\n",
        "Тогда функция должна вернуть список вида ['Зимой и летом стройная,', 'Зелёная была.']\n",
        "\n"
      ],
      "metadata": {
        "id": "UCooumGuEv_w"
      }
    },
    {
      "cell_type": "code",
      "execution_count": null,
      "metadata": {
        "id": "v_Kg0QQVEao7"
      },
      "outputs": [],
      "source": [
        "def read_file_last(a):\n"
      ]
    },
    {
      "cell_type": "markdown",
      "source": [
        "Конвертация в чб"
      ],
      "metadata": {
        "id": "PrmX03HMb3Hu"
      }
    },
    {
      "cell_type": "code",
      "source": [
        "from PIL import Image\n",
        "image_path = \"rast.jpg\"\n",
        "img = Image.open(image_path)\n",
        "\n",
        "bw_img = img.convert(\"L\")\n",
        "\n",
        "bw_img.save(\"bw_rast.jpg\")"
      ],
      "metadata": {
        "id": "L1PrVAcqTyYq"
      },
      "execution_count": null,
      "outputs": []
    },
    {
      "cell_type": "markdown",
      "source": [
        "Поворот на заданный угол"
      ],
      "metadata": {
        "id": "U73By74Xb6fl"
      }
    },
    {
      "cell_type": "code",
      "source": [
        "from PIL import Image\n",
        "image_path = \"rast.jpg\"\n",
        "img = Image.open(image_path)\n",
        "\n",
        "rotated_img = img.rotate(70)\n",
        "\n",
        "rotated_img.save(\"rotate_rast.jpg\")"
      ],
      "metadata": {
        "id": "p2tvUeNRXZdJ"
      },
      "execution_count": null,
      "outputs": []
    },
    {
      "cell_type": "markdown",
      "source": [
        "Чтение и вывод изображения"
      ],
      "metadata": {
        "id": "p1VigEoSb9r8"
      }
    },
    {
      "cell_type": "code",
      "source": [
        "import cv2\n",
        "from matplotlib import pyplot as plt\n",
        "\n",
        "image_path = \"rast.jpg\"\n",
        "img = cv2.imread(image_path)\n",
        "\n",
        "plt.imshow(cv2.cvtColor(img, cv2.COLOR_BGR2RGB))\n",
        "plt.show()"
      ],
      "metadata": {
        "id": "GzyWP4-ebCxh"
      },
      "execution_count": null,
      "outputs": []
    },
    {
      "cell_type": "markdown",
      "source": [
        "Чтение и вывод изображения в серых оттенках + изменение размеров\n"
      ],
      "metadata": {
        "id": "7yD9dMetd6l0"
      }
    },
    {
      "cell_type": "code",
      "source": [
        "import cv2\n",
        "from matplotlib import pyplot as plt\n",
        "\n",
        "image_path = \"rast.jpg\"\n",
        "img = cv2.imread(image_path)\n",
        "\n",
        "resize_img = cv2.resize(img, (3000, 2000))\n",
        "\n",
        "gray_img = cv2.cvtColor(resize_img, cv2.COLOR_BGR2GRAY)\n",
        "\n",
        "plt.imshow(gray_img, cmap = \"gray\")\n",
        "# plt.axis(\"off\")\n",
        "plt.show()"
      ],
      "metadata": {
        "id": "cLGswAeUd8jH"
      },
      "execution_count": null,
      "outputs": []
    }
  ]
}