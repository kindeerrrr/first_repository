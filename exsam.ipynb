{
  "nbformat": 4,
  "nbformat_minor": 0,
  "metadata": {
    "colab": {
      "provenance": [],
      "mount_file_id": "1WWse1vtZjBrAGmafZXsvXymI66jlaMzL",
      "authorship_tag": "ABX9TyPVI+1EntsauvN96/iyu1u/",
      "include_colab_link": true
    },
    "kernelspec": {
      "name": "python3",
      "display_name": "Python 3"
    },
    "language_info": {
      "name": "python"
    }
  },
  "cells": [
    {
      "cell_type": "markdown",
      "metadata": {
        "id": "view-in-github",
        "colab_type": "text"
      },
      "source": [
        "<a href=\"https://colab.research.google.com/github/kindeerrrr/first_repository/blob/main/exsam.ipynb\" target=\"_parent\"><img src=\"https://colab.research.google.com/assets/colab-badge.svg\" alt=\"Open In Colab\"/></a>"
      ]
    },
    {
      "cell_type": "markdown",
      "source": [
        "# Задание 1 (4 балла) - готово"
      ],
      "metadata": {
        "id": "NLdxxau_j7Jy"
      }
    },
    {
      "cell_type": "markdown",
      "source": [
        "**Обратный порядок слов в блоках текста**\n",
        "\n",
        "Дан текстовый файл, каждое предложение которого занимает одну строку. Напишите программу, которая разделяет текст на блоки — каждый блок состоит из нескольких предложений. Затем переворачивает порядок слов только внутри каждого предложения, не меняя порядок самих предложений в блоке.\n",
        "\n",
        "**Файл содержит:**\n",
        "\n",
        "- Привет как дела\n",
        "- На улице идет дождь\n",
        "- Я люблю программирование\n",
        "\n",
        "**Критерии оценки:**\n",
        "\n",
        "- Текст разделен на блоки корректно — 2 балла.\n",
        "- Корректно перевернуты блоки — 2 балла."
      ],
      "metadata": {
        "id": "QCEY5gDRk2g3"
      }
    },
    {
      "cell_type": "code",
      "source": [
        "def reverse_words_in_blocks(input_file, output_file, block_size):\n",
        "    try:\n",
        "        # Чтение содержимого файла\n",
        "        with open(input_file, 'r', encoding='utf-8') as file:\n",
        "            sentences = file.readlines()\n",
        "\n",
        "        # Удаляем лишние символы новой строки и пробелы\n",
        "        sentences = [sentence.strip() for sentence in sentences]\n",
        "\n",
        "        # Разделяем текст на блоки\n",
        "        blocks = [sentences[i:i + block_size] for i in range(0, len(sentences), block_size)]\n",
        "\n",
        "        # Переворачиваем порядок слов в каждом предложении блока\n",
        "        for i in range(len(blocks)):\n",
        "            blocks[i] = [' '.join(sentence.split()[::-1]) for sentence in blocks[i]]\n",
        "\n",
        "        # Собираем текст обратно\n",
        "        processed_text = '\\n'.join(['\\n'.join(block) for block in blocks])\n",
        "\n",
        "        # Записываем результат в выходной файл\n",
        "        with open(output_file, 'w', encoding='utf-8') as file:\n",
        "            file.write(processed_text)\n",
        "\n",
        "        print(f\"Обработка завершена. Результат сохранен в файле '{output_file}'.\")\n",
        "\n",
        "    except FileNotFoundError:\n",
        "        print(f\"Ошибка: файл '{input_file}' не найден.\")\n",
        "    except Exception as e:\n",
        "        print(f\"Произошла ошибка: {e}\")\n",
        "\n",
        "import os\n",
        "print(f\"Файл сохранится здесь: {os.getcwd()}\")\n",
        "\n",
        "# Настройки\n",
        "input_file = '/input.txt'  # Входной файл\n",
        "output_file = 'output.txt'  # Выходной файл\n",
        "block_size = 3  # Количество предложений в блоке\n",
        "\n",
        "# Запуск программы\n",
        "reverse_words_in_blocks(input_file, output_file, block_size)"
      ],
      "metadata": {
        "colab": {
          "base_uri": "https://localhost:8080/"
        },
        "id": "wlxeDff3nHlg",
        "outputId": "302168e2-bb80-4ac4-e370-ebc572ef05f4"
      },
      "execution_count": 7,
      "outputs": [
        {
          "output_type": "stream",
          "name": "stdout",
          "text": [
            "Файл сохранится здесь: /content\n",
            "Обработка завершена. Результат сохранен в файле 'output.txt'.\n"
          ]
        }
      ]
    },
    {
      "cell_type": "markdown",
      "source": [
        "# Задание 2 (2 балла) - готово"
      ],
      "metadata": {
        "id": "LXS3JA_yj7G4"
      }
    },
    {
      "cell_type": "markdown",
      "source": [
        "\n",
        "Напишите функцию, которая принимает строку и сжимает её определённым образом. Строки содержат произвольные символы, включая пробелы и спецсимволы, и требуют точного учета длины при кодировании. Сжатие строки происходит сериями одинаковых символов в формате\n",
        "`символ + количество` но только если длина сжатой строки не превышает исходную.\n",
        "\n",
        "**Примеры:**\n",
        "\n",
        "- вход: aaabbc → вывод: a3b2c,\n",
        "- вход: abcd → вывод: abcd (так как сжатая равна).\n",
        "\n",
        "**Критерии оценки:**\n",
        "\n",
        "- Корректно очищен текст — 1 балл.\n",
        "- Выполняется условие — 1 балл."
      ],
      "metadata": {
        "id": "8HB0Hswuk-uy"
      }
    },
    {
      "cell_type": "code",
      "source": [
        "def compress_string(input_string):\n",
        "    # Проверяем, является ли строка пустой\n",
        "    if not input_string:\n",
        "        return input_string\n",
        "\n",
        "    compressed = []\n",
        "    count = 1\n",
        "\n",
        "    # Проходим по строке\n",
        "    for i in range(1, len(input_string)):\n",
        "        if input_string[i] == input_string[i - 1]:\n",
        "            count += 1  # Увеличиваем счетчик для повторяющихся символов\n",
        "        else:\n",
        "            # Добавляем символ и его количество (если больше 1)\n",
        "            compressed.append(input_string[i - 1] + (str(count) if count > 1 else ''))\n",
        "            count = 1\n",
        "\n",
        "    # Добавляем последний символ\n",
        "    compressed.append(input_string[-1] + (str(count) if count > 1 else ''))\n",
        "\n",
        "    # Создаем сжатую строку\n",
        "    compressed_string = ''.join(compressed)\n",
        "\n",
        "    # Проверяем, стоит ли использовать сжатую строку\n",
        "    return compressed_string if len(compressed_string) < len(input_string) else input_string\n",
        "\n",
        "\n",
        "# Примеры использования:\n",
        "input_string = input(\"Введите строку для сжатия: \")\n",
        "result = compress_string(input_string)\n",
        "print(f\"Результат: {result}\")"
      ],
      "metadata": {
        "colab": {
          "base_uri": "https://localhost:8080/"
        },
        "id": "ZN_VZXd8lCb5",
        "outputId": "58f85772-41cc-4d4a-fcd2-4d7f8f2006b1"
      },
      "execution_count": 13,
      "outputs": [
        {
          "output_type": "stream",
          "name": "stdout",
          "text": [
            "Введите строку для сжатия: aaabbc\n",
            "Результат: a3b2c\n"
          ]
        }
      ]
    },
    {
      "cell_type": "markdown",
      "source": [
        "# Задание 3 (4 балла) - готово"
      ],
      "metadata": {
        "id": "zidNpx5_j7ER"
      }
    },
    {
      "cell_type": "markdown",
      "source": [
        "**Хаотичные скобки**\n",
        "\n",
        "Реализуйте функцию, которая проверяет, правильно ли расставлены скобки в строке (включая круглые, квадратные и фигурные скобки).\n",
        "\n",
        "**Критерии оценки:**\n",
        "\n",
        "- Функция выполняет условие — 4 балла."
      ],
      "metadata": {
        "id": "Anrf6iooj7B4"
      }
    },
    {
      "cell_type": "code",
      "source": [
        "def are_brackets_balanced(s):\n",
        "    # Словарь соответствий закрывающих и открывающих скобок\n",
        "    brackets = {')': '(', ']': '[', '}': '{'}\n",
        "    stack = []\n",
        "\n",
        "    for char in s:\n",
        "        # Если символ — это открывающая скобка, добавляем в стек\n",
        "        if char in brackets.values():\n",
        "            stack.append(char)\n",
        "        # Если символ — это закрывающая скобка\n",
        "        elif char in brackets:\n",
        "            # Проверяем, что стек не пустой и верхняя скобка соответствует текущей\n",
        "            if stack and stack[-1] == brackets[char]:\n",
        "                stack.pop()  # Убираем корректную пару скобок\n",
        "            else:\n",
        "                return False  # Некорректное соответствие скобок\n",
        "\n",
        "    # Если стек пустой, все скобки сбалансированы\n",
        "    return len(stack) == 0\n",
        "\n",
        "\n",
        "# Примеры использования:\n",
        "print(are_brackets_balanced(\"([]{}\"))\n",
        "print(are_brackets_balanced(\"([{}])\"))\n",
        "print(are_brackets_balanced(\"(]\"))\n",
        "print(are_brackets_balanced(\"([)]\"))\n",
        "print(are_brackets_balanced(\"{[()]}[]\"))\n",
        "print(are_brackets_balanced(\"\"))"
      ],
      "metadata": {
        "colab": {
          "base_uri": "https://localhost:8080/"
        },
        "id": "27fR9HTHlOSp",
        "outputId": "79398228-8fdb-4755-e095-ae956f80bcb0"
      },
      "execution_count": 15,
      "outputs": [
        {
          "output_type": "stream",
          "name": "stdout",
          "text": [
            "False\n",
            "True\n",
            "False\n",
            "False\n",
            "True\n",
            "True\n"
          ]
        }
      ]
    },
    {
      "cell_type": "markdown",
      "source": [
        "# Задание 4 (4 балла) - готово"
      ],
      "metadata": {
        "id": "DQ2co9T1j6_A"
      }
    },
    {
      "cell_type": "markdown",
      "source": [
        "**Генератор случайных паролей**\n",
        "\n",
        "Напишите функцию, которая генерирует пароль заданной длины. В реализации надо учитывать, что:\n",
        "\n",
        "- Пароль должен содержать буквы, цифры и специальные символы.\n",
        "- Длина пароля задается пользователем.\n",
        "\n",
        "**Критерии оценки:**\n",
        "\n",
        "- Функция выполняет все заявленные условия — 4 балла."
      ],
      "metadata": {
        "id": "7kGjjHhjj68e"
      }
    },
    {
      "cell_type": "code",
      "source": [
        "import random\n",
        "import string\n",
        "\n",
        "def generate_key():\n",
        "    # Список символов для каждой группы\n",
        "    letters = string.ascii_letters  # Буквы (a-z, A-Z)\n",
        "    digits = string.digits          # Цифры (0-9)\n",
        "    specials = string.punctuation   # Спецсимволы (!@#$%^&*)\n",
        "    lst = list(letters + digits + punctuation)\n",
        "\n",
        "    # Вводим желаемую длину пароля\n",
        "    n = int(input('Введите желаемую длину пароля: '))\n",
        "\n",
        "    # Проверяем, что длина пароля позволяет включить все группы символов\n",
        "    if n < 3:\n",
        "        print(\"Длина пароля должна быть не менее 3, чтобы включать букву, цифру и спецсимвол.\")\n",
        "        return\n",
        "\n",
        "    # Гарантированно добавляем по одному символу из каждой группы\n",
        "    password = [\n",
        "        random.choice(letters),  # 1 буква\n",
        "        random.choice(digits),   # 1 цифра\n",
        "        random.choice(specials)  # 1 спецсимвол\n",
        "    ]\n",
        "\n",
        "    # Ищем, сколько нужно добрать до полного пароля\n",
        "    n_ost = n - 3\n",
        "\n",
        "    # Дополняем оставшиеся символы из общего набора\n",
        "    password += random.choices(lst, k = n_ost)\n",
        "\n",
        "    # Для надежности перемешиваем еще раз пароль\n",
        "    random.shuffle(password)\n",
        "\n",
        "    #Преобразуем полученный список в строку и возвращаем результат\n",
        "    return ''.join(password)\n",
        "\n",
        "print(generate_key())\n"
      ],
      "metadata": {
        "colab": {
          "base_uri": "https://localhost:8080/"
        },
        "id": "2ajmOQtAllFM",
        "outputId": "20172992-2dff-4b15-e175-cfe95355331a"
      },
      "execution_count": 47,
      "outputs": [
        {
          "output_type": "stream",
          "name": "stdout",
          "text": [
            "Введите желаемую длину пароля: 10\n",
            "b}~9kA8p*t\n"
          ]
        }
      ]
    },
    {
      "cell_type": "markdown",
      "source": [
        "# Задание 5 (6 баллов) - готово"
      ],
      "metadata": {
        "id": "RkADvtrSj652"
      }
    },
    {
      "cell_type": "markdown",
      "source": [
        "**Эмуляция работы электронной очереди**\n",
        "\n",
        "Напишите класс для симуляции работы электронной очереди, например, в банке.\n",
        "\n",
        "**Критерии оценки:**\n",
        "\n",
        "- Система должна поддерживать добавление клиентов с указанием их приоритета (например, VIP, обычный) — 1 балл.\n",
        "- Выбор клиента для следующей обработки должен учитывать приоритет — 1 балл.\n",
        "- Реализуйте отчет для администрации с информацией, сколько времени заняло обслуживание клиентов — 4 балла."
      ],
      "metadata": {
        "id": "OiMZVhh1j63R"
      }
    },
    {
      "cell_type": "code",
      "source": [
        "import time\n",
        "\n",
        "# Создаем класс Client для инициализации клиентов\n",
        "class Client:\n",
        "\n",
        "    # Создаем шаблон для клиентов\n",
        "    def __init__(self, name, priority):\n",
        "        self.name = name\n",
        "        self.priority = priority\n",
        "        self.time_added = time.time()  # Время добавления клиента в очередь\n",
        "\n",
        "    # Используем метод для печати\n",
        "    def __str__(self):\n",
        "        return f\"{self.name} ({self.priority})\""
      ],
      "metadata": {
        "id": "uOPQFFeUmC86"
      },
      "execution_count": 71,
      "outputs": []
    },
    {
      "cell_type": "code",
      "source": [
        "# Создаем класс Queue для очереди\n",
        "class Queue:\n",
        "    def __init__(self):\n",
        "        self.queue = []  # Список клиентов в очереди\n",
        "        self.total_service_time = 0  # Общее время обслуживания\n",
        "        self.total_clients = 0  # Общее количество клиентов в очереди\n",
        "\n",
        "    def add_client(self, name, priority):\n",
        "        # Добавляем клиента в очередь\n",
        "        client = Client(name, priority)\n",
        "        self.queue.append(client)\n",
        "        self.total_clients += 1  # Увеличиваем общее количество клиентов\n",
        "\n",
        "    def serve_next_client(self):\n",
        "        # Сортировка очереди по приоритету (VIP перед обычными)\n",
        "        self.queue.sort(key=lambda x: x.priority == 'VIP', reverse=True)\n",
        "\n",
        "        # Обслуживаем клиента\n",
        "        if self.queue:\n",
        "            client = self.queue.pop(0)  # Убираем клиента из очереди\n",
        "            print(f\"Обслуживаем: {client.name} ({client.priority})\")\n",
        "\n",
        "            start_time = time.time()  # Фиксируем время начала обслуживания\n",
        "            time.sleep(5)  # Симуляция времени обслуживания клиента (5 секунд)\n",
        "            end_time = time.time()  # Фиксируем время окончания обслуживания\n",
        "\n",
        "            service_time = end_time - start_time  # Время обслуживания клиента\n",
        "            self.total_service_time += service_time\n",
        "\n",
        "            print(f\"Время обслуживания: {service_time:.2f} секунд\")\n",
        "            return client\n",
        "        else:\n",
        "            print(\"Очередь пуста!\")\n",
        "            return None\n",
        "\n",
        "    def generate_report(self):\n",
        "        # Считаем количество обслуженных клиентов\n",
        "        num_served_clients = self.total_clients - len(self.queue)\n",
        "        print(f\"Общее время обслуживания клиентов: {self.total_service_time:.2f} секунд\")\n",
        "        print(f\"Количество обслуженных клиентов: {num_served_clients}\")\n",
        "        print(f\"Количество оставшихся клиентов в очереди: {len(self.queue)}\")\n",
        "\n",
        "    def generate_report(self):\n",
        "        # Считаем количество обслуженных клиентов\n",
        "        num_served_clients = self.total_clients - len(self.queue)\n",
        "        print(f\"Общее время обслуживания клиентов: {self.total_service_time:.2f} секунд\")\n",
        "        print(f\"Количество обслуженных клиентов: {num_served_clients}\")\n",
        "        print(f\"Количество оставшихся клиентов в очереди: {len(self.queue)}\")\n"
      ],
      "metadata": {
        "id": "aGW5ShieAl_q"
      },
      "execution_count": 72,
      "outputs": []
    },
    {
      "cell_type": "code",
      "source": [
        "# Создаём объект очереди\n",
        "queue = Queue()\n",
        "\n",
        "# Добавляем клиентов\n",
        "queue.add_client(\"Иван\", \"Обычный\")\n",
        "queue.add_client(\"Мария\", \"VIP\")\n",
        "queue.add_client(\"Алексей\", \"Обычный\")\n",
        "queue.add_client(\"Дмитрий\", \"VIP\")\n",
        "\n",
        "# Обслуживаем клиентов до тех пор, пока очередь не пуста\n",
        "while len(queue.queue) > 0:\n",
        "    queue.serve_next_client()\n",
        "\n",
        "# Выводим отчёт\n",
        "queue.generate_report()"
      ],
      "metadata": {
        "colab": {
          "base_uri": "https://localhost:8080/"
        },
        "id": "BFuBeUynC9r0",
        "outputId": "eb80142f-d773-47cf-c844-b9c1dce0561b"
      },
      "execution_count": 73,
      "outputs": [
        {
          "output_type": "stream",
          "name": "stdout",
          "text": [
            "Обслуживаем: Мария (VIP)\n",
            "Время обслуживания: 5.01 секунд\n",
            "Обслуживаем: Дмитрий (VIP)\n",
            "Время обслуживания: 5.01 секунд\n",
            "Обслуживаем: Иван (Обычный)\n",
            "Время обслуживания: 5.01 секунд\n",
            "Обслуживаем: Алексей (Обычный)\n",
            "Время обслуживания: 5.00 секунд\n",
            "Общее время обслуживания клиентов: 20.02 секунд\n",
            "Количество обслуженных клиентов: 4\n",
            "Количество оставшихся клиентов в очереди: 0\n"
          ]
        }
      ]
    },
    {
      "cell_type": "markdown",
      "source": [
        "# Задание 6 (2 балла) - готово"
      ],
      "metadata": {
        "id": "QckXxpK0j60k"
      }
    },
    {
      "cell_type": "markdown",
      "source": [
        "**Проверка на «почти палиндром»**\n",
        "\n",
        "Напишите программу, которая проверяет, является ли строка палиндромом или «почти палиндромом». «Почти палиндром» означает, что можно удалить одну букву, чтобы строка стала палиндромом.\n",
        "\n",
        "**Критерии оценки:**\n",
        "\n",
        "- Функция выполняет все заявленные условия — 2 балла."
      ],
      "metadata": {
        "id": "fhK_BMqfmKsD"
      }
    },
    {
      "cell_type": "code",
      "source": [
        "word = input('Введите слово для проверки: ')\n",
        "\n",
        "def palindrome(word):\n",
        "    return word == word[::-1]\n",
        "\n",
        "def almost_palindrome(word):\n",
        "    if palindrome(word):\n",
        "        return f'Слово \"{word}\" - палиндром!'\n",
        "\n",
        "    for i in range(len(word)):\n",
        "        new_word = word[:i] + word[i+1:]\n",
        "        if palindrome(new_word):\n",
        "            return f'\"{word}\" - почти палиндром!'\n",
        "\n",
        "    return f'Слово \"{word}\" не палиндром и не почти палиндром.'\n",
        "\n",
        "\n",
        "print(almost_palindrome(word))"
      ],
      "metadata": {
        "colab": {
          "base_uri": "https://localhost:8080/"
        },
        "id": "dMSkZEkOmQen",
        "outputId": "2942c08a-913a-4b30-b21a-adcc09bfa8e4"
      },
      "execution_count": 100,
      "outputs": [
        {
          "output_type": "stream",
          "name": "stdout",
          "text": [
            "Введите слово для проверки: потопа\n",
            "\"потопа\" - почти палиндром!\n"
          ]
        }
      ]
    },
    {
      "cell_type": "markdown",
      "source": [
        "# Задание 7 (9 баллов) - готово"
      ],
      "metadata": {
        "id": "3h94ueF6j6yQ"
      }
    },
    {
      "cell_type": "markdown",
      "source": [
        "**Задача Шредингера**\n",
        "\n",
        "Разработайте программу, которая «стирает» фрагменты текста в файле. Например:\n",
        "\n",
        "1. Пользователь указывает файл и процент текста, который нужно удалить (например, 30%).\n",
        "2. Программа случайно выбирает слова или части абзацев и заменяет их на пробел или ..., сохраняя общий объем документа.\n",
        "\n",
        "Вход:\n",
        "«Сегодня солнечный день, и я собираюсь гулять в парке с моими друзьями.»\n",
        "\n",
        "Вывод (удалено ~30%):\n",
        "«Сегодня ... день, и я собираюсь гулять ... моими друзьями.»\n",
        "\n",
        "**Критерии оценки:**\n",
        "\n",
        "- Чтение файла и ввод параметров пользователя — 3 балла.\n",
        "- Реализация алгоритма случайного удаления текста — 5 баллов.\n",
        "- Запись результата и вывод пользователю — 1 балл."
      ],
      "metadata": {
        "id": "7G0WlWXQmTpl"
      }
    },
    {
      "cell_type": "code",
      "source": [
        "import random\n",
        "\n",
        "# Создаем функцию для чтения файла, на вход подаем путь к файлу\n",
        "def read_file(file_path):\n",
        "    with open(file_path, 'r', encoding='utf-8') as file:\n",
        "        return file.read()\n",
        "\n",
        "# Создаем функцию для записи нового файла после удаления информации\n",
        "def write_file(file_path, content):\n",
        "    with open(file_path, 'w', encoding='utf-8') as file:\n",
        "        file.write(content)\n",
        "\n",
        "# Создаем функцию для удаления текста\n",
        "def delete_text(text, delete_percentage):\n",
        "    # Разбиваем текст на слова\n",
        "    words = text.split()\n",
        "\n",
        "    # Считаем, сколько слов нужно удалить\n",
        "    num_words_to_remove = int(len(words) * delete_percentage / 100)\n",
        "\n",
        "    # Случайным образом выбираем слова для удаления\n",
        "    words_to_remove = random.sample(words, num_words_to_remove)\n",
        "\n",
        "    # Заменяем выбранные слова на многоточие\n",
        "    modified_words = [word if word not in words_to_remove else \"...\" for word in words]\n",
        "\n",
        "    # Собираем текст обратно\n",
        "    modified_text = ' '.join(modified_words)\n",
        "\n",
        "    return modified_text"
      ],
      "metadata": {
        "id": "NPBPmzENmpmK"
      },
      "execution_count": 111,
      "outputs": []
    },
    {
      "cell_type": "code",
      "source": [
        "# Создаем основную функцию, которая содержит все\n",
        "def main():\n",
        "    # Вводим путь к файлу и процент удаления\n",
        "    file_path = input(\"Введите путь к файлу: \")\n",
        "    delete_percentage = int(input(\"Введите процент текста для удаления: \"))\n",
        "\n",
        "    # Читаем содержимое файла\n",
        "    text = read_file(file_path)\n",
        "\n",
        "    # Удаляем часть текста\n",
        "    modified_text = delete_text(text, delete_percentage)\n",
        "\n",
        "    # Записываем результат в новый файл\n",
        "    output_file = \"modified_\" + file_path\n",
        "    write_file(output_file, modified_text)\n",
        "\n",
        "    print(f\"Текст был изменён и сохранён в файл: {output_file}\")\n",
        "\n",
        "# Запуск программы\n",
        "main()"
      ],
      "metadata": {
        "colab": {
          "base_uri": "https://localhost:8080/"
        },
        "id": "wtAapTK0JBkg",
        "outputId": "a89ce2ca-4a80-42d7-b00d-ad4f22ada84d"
      },
      "execution_count": 112,
      "outputs": [
        {
          "output_type": "stream",
          "name": "stdout",
          "text": [
            "Введите путь к файлу: num7.txt\n",
            "Введите процент текста для удаления: 30\n",
            "Текст был изменён и сохранён в файл: modified_num7.txt\n"
          ]
        }
      ]
    }
  ]
}